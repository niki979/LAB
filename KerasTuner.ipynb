{
 "cells": [
  {
   "cell_type": "code",
   "execution_count": 1,
   "id": "07226792",
   "metadata": {},
   "outputs": [],
   "source": [
    "import numpy as np\n",
    "import pandas as pd"
   ]
  },
  {
   "cell_type": "markdown",
   "id": "ea50090b",
   "metadata": {},
   "source": [
    "Hyperparameters are parameters that are not learned directly from the training data but are set prior to the training process \n",
    "in machine learning and deep learning algorithms. \n",
    "They control various aspects of the learning process and can significantly impact the performance of a model. "
   ]
  },
  {
   "cell_type": "markdown",
   "id": "5617821e",
   "metadata": {},
   "source": [
    "Hyperparameter tuning is the process of finding the optimal combination of hyperparameters that leads to the best model performance on a validation dataset."
   ]
  },
  {
   "cell_type": "code",
   "execution_count": 2,
   "id": "bfcbdec8",
   "metadata": {},
   "outputs": [
    {
     "data": {
      "text/html": [
       "<div>\n",
       "<style scoped>\n",
       "    .dataframe tbody tr th:only-of-type {\n",
       "        vertical-align: middle;\n",
       "    }\n",
       "\n",
       "    .dataframe tbody tr th {\n",
       "        vertical-align: top;\n",
       "    }\n",
       "\n",
       "    .dataframe thead th {\n",
       "        text-align: right;\n",
       "    }\n",
       "</style>\n",
       "<table border=\"1\" class=\"dataframe\">\n",
       "  <thead>\n",
       "    <tr style=\"text-align: right;\">\n",
       "      <th></th>\n",
       "      <th>Pregnancies</th>\n",
       "      <th>Glucose</th>\n",
       "      <th>BloodPressure</th>\n",
       "      <th>SkinThickness</th>\n",
       "      <th>Insulin</th>\n",
       "      <th>BMI</th>\n",
       "      <th>DiabetesPedigreeFunction</th>\n",
       "      <th>Age</th>\n",
       "      <th>Outcome</th>\n",
       "    </tr>\n",
       "  </thead>\n",
       "  <tbody>\n",
       "    <tr>\n",
       "      <th>0</th>\n",
       "      <td>6</td>\n",
       "      <td>148</td>\n",
       "      <td>72</td>\n",
       "      <td>35</td>\n",
       "      <td>0</td>\n",
       "      <td>33.6</td>\n",
       "      <td>0.627</td>\n",
       "      <td>50</td>\n",
       "      <td>1</td>\n",
       "    </tr>\n",
       "    <tr>\n",
       "      <th>1</th>\n",
       "      <td>1</td>\n",
       "      <td>85</td>\n",
       "      <td>66</td>\n",
       "      <td>29</td>\n",
       "      <td>0</td>\n",
       "      <td>26.6</td>\n",
       "      <td>0.351</td>\n",
       "      <td>31</td>\n",
       "      <td>0</td>\n",
       "    </tr>\n",
       "    <tr>\n",
       "      <th>2</th>\n",
       "      <td>8</td>\n",
       "      <td>183</td>\n",
       "      <td>64</td>\n",
       "      <td>0</td>\n",
       "      <td>0</td>\n",
       "      <td>23.3</td>\n",
       "      <td>0.672</td>\n",
       "      <td>32</td>\n",
       "      <td>1</td>\n",
       "    </tr>\n",
       "    <tr>\n",
       "      <th>3</th>\n",
       "      <td>1</td>\n",
       "      <td>89</td>\n",
       "      <td>66</td>\n",
       "      <td>23</td>\n",
       "      <td>94</td>\n",
       "      <td>28.1</td>\n",
       "      <td>0.167</td>\n",
       "      <td>21</td>\n",
       "      <td>0</td>\n",
       "    </tr>\n",
       "    <tr>\n",
       "      <th>4</th>\n",
       "      <td>0</td>\n",
       "      <td>137</td>\n",
       "      <td>40</td>\n",
       "      <td>35</td>\n",
       "      <td>168</td>\n",
       "      <td>43.1</td>\n",
       "      <td>2.288</td>\n",
       "      <td>33</td>\n",
       "      <td>1</td>\n",
       "    </tr>\n",
       "  </tbody>\n",
       "</table>\n",
       "</div>"
      ],
      "text/plain": [
       "   Pregnancies  Glucose  BloodPressure  SkinThickness  Insulin   BMI  \\\n",
       "0            6      148             72             35        0  33.6   \n",
       "1            1       85             66             29        0  26.6   \n",
       "2            8      183             64              0        0  23.3   \n",
       "3            1       89             66             23       94  28.1   \n",
       "4            0      137             40             35      168  43.1   \n",
       "\n",
       "   DiabetesPedigreeFunction  Age  Outcome  \n",
       "0                     0.627   50        1  \n",
       "1                     0.351   31        0  \n",
       "2                     0.672   32        1  \n",
       "3                     0.167   21        0  \n",
       "4                     2.288   33        1  "
      ]
     },
     "execution_count": 2,
     "metadata": {},
     "output_type": "execute_result"
    }
   ],
   "source": [
    "df=pd.read_csv(r\"D:\\ML\\diabetes.csv\")\n",
    "df.head()"
   ]
  },
  {
   "cell_type": "code",
   "execution_count": 3,
   "id": "e648c9f7",
   "metadata": {},
   "outputs": [
    {
     "data": {
      "text/plain": [
       "Pregnancies                 0.221898\n",
       "Glucose                     0.466581\n",
       "BloodPressure               0.065068\n",
       "SkinThickness               0.074752\n",
       "Insulin                     0.130548\n",
       "BMI                         0.292695\n",
       "DiabetesPedigreeFunction    0.173844\n",
       "Age                         0.238356\n",
       "Outcome                     1.000000\n",
       "Name: Outcome, dtype: float64"
      ]
     },
     "execution_count": 3,
     "metadata": {},
     "output_type": "execute_result"
    }
   ],
   "source": [
    "df.corr()['Outcome']"
   ]
  },
  {
   "cell_type": "code",
   "execution_count": 4,
   "id": "3240995d",
   "metadata": {},
   "outputs": [],
   "source": [
    "X=df.iloc[:,:-1].values\n",
    "y=df.iloc[:,-1].values"
   ]
  },
  {
   "cell_type": "code",
   "execution_count": 5,
   "id": "bd1ab84f",
   "metadata": {},
   "outputs": [
    {
     "data": {
      "text/plain": [
       "array([[  6.   , 148.   ,  72.   , ...,  33.6  ,   0.627,  50.   ],\n",
       "       [  1.   ,  85.   ,  66.   , ...,  26.6  ,   0.351,  31.   ],\n",
       "       [  8.   , 183.   ,  64.   , ...,  23.3  ,   0.672,  32.   ],\n",
       "       ...,\n",
       "       [  5.   , 121.   ,  72.   , ...,  26.2  ,   0.245,  30.   ],\n",
       "       [  1.   , 126.   ,  60.   , ...,  30.1  ,   0.349,  47.   ],\n",
       "       [  1.   ,  93.   ,  70.   , ...,  30.4  ,   0.315,  23.   ]])"
      ]
     },
     "execution_count": 5,
     "metadata": {},
     "output_type": "execute_result"
    }
   ],
   "source": [
    "X"
   ]
  },
  {
   "cell_type": "code",
   "execution_count": 6,
   "id": "a0ba524e",
   "metadata": {},
   "outputs": [],
   "source": [
    "from sklearn.preprocessing import StandardScaler\n",
    "scaler=StandardScaler()\n"
   ]
  },
  {
   "cell_type": "code",
   "execution_count": 7,
   "id": "5463f5fc",
   "metadata": {},
   "outputs": [],
   "source": [
    "X=scaler.fit_transform(X)"
   ]
  },
  {
   "cell_type": "code",
   "execution_count": 8,
   "id": "5d433e5c",
   "metadata": {},
   "outputs": [
    {
     "data": {
      "text/plain": [
       "array([[ 0.63994726,  0.84832379,  0.14964075, ...,  0.20401277,\n",
       "         0.46849198,  1.4259954 ],\n",
       "       [-0.84488505, -1.12339636, -0.16054575, ..., -0.68442195,\n",
       "        -0.36506078, -0.19067191],\n",
       "       [ 1.23388019,  1.94372388, -0.26394125, ..., -1.10325546,\n",
       "         0.60439732, -0.10558415],\n",
       "       ...,\n",
       "       [ 0.3429808 ,  0.00330087,  0.14964075, ..., -0.73518964,\n",
       "        -0.68519336, -0.27575966],\n",
       "       [-0.84488505,  0.1597866 , -0.47073225, ..., -0.24020459,\n",
       "        -0.37110101,  1.17073215],\n",
       "       [-0.84488505, -0.8730192 ,  0.04624525, ..., -0.20212881,\n",
       "        -0.47378505, -0.87137393]])"
      ]
     },
     "execution_count": 8,
     "metadata": {},
     "output_type": "execute_result"
    }
   ],
   "source": [
    "X"
   ]
  },
  {
   "cell_type": "code",
   "execution_count": 9,
   "id": "d6d1fbb6",
   "metadata": {},
   "outputs": [],
   "source": [
    "from sklearn.model_selection import train_test_split\n",
    "X_train,X_test,y_train,y_test=train_test_split(X,y,test_size=0.2,random_state=1)"
   ]
  },
  {
   "cell_type": "code",
   "execution_count": 10,
   "id": "c5ddfa23",
   "metadata": {},
   "outputs": [],
   "source": [
    "import tensorflow\n",
    "from tensorflow import keras\n",
    "from keras import Sequential\n",
    "from keras.layers import Dense,Dropout"
   ]
  },
  {
   "cell_type": "code",
   "execution_count": 11,
   "id": "17d95e2b",
   "metadata": {},
   "outputs": [],
   "source": [
    "model=Sequential()\n",
    "model.add(Dense(32,activation='relu',input_dim=8))\n",
    "model.add(Dense(1,activation='sigmoid'))\n",
    "\n",
    "model.compile(optimizer='Adam',loss='binary_crossentropy',metrics=['accuracy'])"
   ]
  },
  {
   "cell_type": "code",
   "execution_count": 12,
   "id": "63b1449c",
   "metadata": {},
   "outputs": [
    {
     "name": "stdout",
     "output_type": "stream",
     "text": [
      "Epoch 1/10\n",
      "20/20 [==============================] - 1s 20ms/step - loss: 0.6858 - accuracy: 0.5733 - val_loss: 0.6359 - val_accuracy: 0.7273\n",
      "Epoch 2/10\n",
      "20/20 [==============================] - 0s 6ms/step - loss: 0.6299 - accuracy: 0.6954 - val_loss: 0.5890 - val_accuracy: 0.7857\n",
      "Epoch 3/10\n",
      "20/20 [==============================] - 0s 5ms/step - loss: 0.5891 - accuracy: 0.7296 - val_loss: 0.5539 - val_accuracy: 0.7922\n",
      "Epoch 4/10\n",
      "20/20 [==============================] - 0s 4ms/step - loss: 0.5589 - accuracy: 0.7378 - val_loss: 0.5309 - val_accuracy: 0.7792\n",
      "Epoch 5/10\n",
      "20/20 [==============================] - 0s 4ms/step - loss: 0.5367 - accuracy: 0.7329 - val_loss: 0.5121 - val_accuracy: 0.7857\n",
      "Epoch 6/10\n",
      "20/20 [==============================] - 0s 5ms/step - loss: 0.5194 - accuracy: 0.7459 - val_loss: 0.4989 - val_accuracy: 0.7922\n",
      "Epoch 7/10\n",
      "20/20 [==============================] - 0s 5ms/step - loss: 0.5072 - accuracy: 0.7443 - val_loss: 0.4899 - val_accuracy: 0.8052\n",
      "Epoch 8/10\n",
      "20/20 [==============================] - 0s 5ms/step - loss: 0.4975 - accuracy: 0.7492 - val_loss: 0.4848 - val_accuracy: 0.8052\n",
      "Epoch 9/10\n",
      "20/20 [==============================] - 0s 5ms/step - loss: 0.4895 - accuracy: 0.7557 - val_loss: 0.4798 - val_accuracy: 0.7987\n",
      "Epoch 10/10\n",
      "20/20 [==============================] - 0s 6ms/step - loss: 0.4828 - accuracy: 0.7590 - val_loss: 0.4744 - val_accuracy: 0.7987\n"
     ]
    },
    {
     "data": {
      "text/plain": [
       "<keras.src.callbacks.History at 0x25531dd7190>"
      ]
     },
     "execution_count": 12,
     "metadata": {},
     "output_type": "execute_result"
    }
   ],
   "source": [
    "model.fit(X_train,y_train,batch_size=32,epochs=10,validation_data=(X_test,y_test))"
   ]
  },
  {
   "cell_type": "code",
   "execution_count": null,
   "id": "1ad208d8",
   "metadata": {},
   "outputs": [],
   "source": []
  },
  {
   "cell_type": "code",
   "execution_count": 13,
   "id": "20267747",
   "metadata": {},
   "outputs": [],
   "source": [
    "# 1. how to select appropriate optimizer\n",
    "# 2. No. of nodes in a layer\n",
    "# 3. how to select no. of layers\n",
    "# 4. all in one model"
   ]
  },
  {
   "cell_type": "code",
   "execution_count": 14,
   "id": "f9c8ba7d",
   "metadata": {},
   "outputs": [
    {
     "name": "stderr",
     "output_type": "stream",
     "text": [
      "C:\\Users\\Dell\\AppData\\Local\\Temp\\ipykernel_13704\\1654478174.py:1: DeprecationWarning: `import kerastuner` is deprecated, please use `import keras_tuner`.\n",
      "  import kerastuner as kt\n"
     ]
    }
   ],
   "source": [
    "import kerastuner as kt"
   ]
  },
  {
   "cell_type": "code",
   "execution_count": 15,
   "id": "e2d60440",
   "metadata": {},
   "outputs": [],
   "source": [
    "def build_model(hp):\n",
    "    model=Sequential()\n",
    "    model.add(Dense(32,activation='relu',input_dim=8))\n",
    "    model.add(Dense(1,activation='sigmoid'))\n",
    "    \n",
    "    optimizer=hp.Choice('optimizer',values=['adam','sgd','rmsprop','adadelta'])\n",
    "    \n",
    "    model.compile(optimizer=optimizer,loss='binary_crossentropy',metrics=['accuracy']\n",
    "                 )\n",
    "    \n",
    "    return model\n",
    "    "
   ]
  },
  {
   "cell_type": "code",
   "execution_count": 16,
   "id": "24ea2e39",
   "metadata": {},
   "outputs": [],
   "source": [
    "tuner=kt.RandomSearch(build_model,\n",
    "                         objective='val_accuracy',\n",
    "                          max_trials=5,\n",
    "                      directory='mydir',\n",
    "                      project_name='optimizers'\n",
    "                     )"
   ]
  },
  {
   "cell_type": "code",
   "execution_count": 17,
   "id": "77cf98cb",
   "metadata": {},
   "outputs": [
    {
     "name": "stdout",
     "output_type": "stream",
     "text": [
      "Trial 4 Complete [00h 00m 03s]\n",
      "val_accuracy: 0.4350649416446686\n",
      "\n",
      "Best val_accuracy So Far: 0.7727272510528564\n",
      "Total elapsed time: 00h 00m 10s\n",
      "INFO:tensorflow:Oracle triggered exit\n"
     ]
    }
   ],
   "source": [
    "tuner.search(X_train,y_train,epochs=5,validation_data=(X_test,y_test))"
   ]
  },
  {
   "cell_type": "code",
   "execution_count": 18,
   "id": "c24ad6a9",
   "metadata": {},
   "outputs": [
    {
     "data": {
      "text/plain": [
       "{'optimizer': 'rmsprop'}"
      ]
     },
     "execution_count": 18,
     "metadata": {},
     "output_type": "execute_result"
    }
   ],
   "source": [
    "tuner.get_best_hyperparameters()[0].values"
   ]
  },
  {
   "cell_type": "code",
   "execution_count": 19,
   "id": "7e184a9f",
   "metadata": {},
   "outputs": [],
   "source": [
    "model=tuner.get_best_models(num_models=1)[0]"
   ]
  },
  {
   "cell_type": "code",
   "execution_count": 20,
   "id": "1acb0abe",
   "metadata": {},
   "outputs": [
    {
     "name": "stdout",
     "output_type": "stream",
     "text": [
      "Model: \"sequential\"\n",
      "_________________________________________________________________\n",
      " Layer (type)                Output Shape              Param #   \n",
      "=================================================================\n",
      " dense (Dense)               (None, 32)                288       \n",
      "                                                                 \n",
      " dense_1 (Dense)             (None, 1)                 33        \n",
      "                                                                 \n",
      "=================================================================\n",
      "Total params: 321 (1.25 KB)\n",
      "Trainable params: 321 (1.25 KB)\n",
      "Non-trainable params: 0 (0.00 Byte)\n",
      "_________________________________________________________________\n"
     ]
    }
   ],
   "source": [
    "model.summary()"
   ]
  },
  {
   "cell_type": "code",
   "execution_count": 21,
   "id": "e691d11e",
   "metadata": {},
   "outputs": [
    {
     "name": "stdout",
     "output_type": "stream",
     "text": [
      "Epoch 6/50\n",
      "20/20 [==============================] - 1s 17ms/step - loss: 0.5411 - accuracy: 0.7476 - val_loss: 0.5295 - val_accuracy: 0.7662\n",
      "Epoch 7/50\n",
      "20/20 [==============================] - 0s 6ms/step - loss: 0.5222 - accuracy: 0.7508 - val_loss: 0.5143 - val_accuracy: 0.7597\n",
      "Epoch 8/50\n",
      "20/20 [==============================] - 0s 5ms/step - loss: 0.5080 - accuracy: 0.7622 - val_loss: 0.5008 - val_accuracy: 0.7662\n",
      "Epoch 9/50\n",
      "20/20 [==============================] - 0s 5ms/step - loss: 0.4966 - accuracy: 0.7638 - val_loss: 0.4915 - val_accuracy: 0.7727\n",
      "Epoch 10/50\n",
      "20/20 [==============================] - 0s 5ms/step - loss: 0.4870 - accuracy: 0.7606 - val_loss: 0.4836 - val_accuracy: 0.7727\n",
      "Epoch 11/50\n",
      "20/20 [==============================] - 0s 5ms/step - loss: 0.4798 - accuracy: 0.7671 - val_loss: 0.4775 - val_accuracy: 0.7727\n",
      "Epoch 12/50\n",
      "20/20 [==============================] - 0s 5ms/step - loss: 0.4743 - accuracy: 0.7720 - val_loss: 0.4745 - val_accuracy: 0.7792\n",
      "Epoch 13/50\n",
      "20/20 [==============================] - 0s 6ms/step - loss: 0.4698 - accuracy: 0.7736 - val_loss: 0.4708 - val_accuracy: 0.7857\n",
      "Epoch 14/50\n",
      "20/20 [==============================] - 0s 5ms/step - loss: 0.4668 - accuracy: 0.7785 - val_loss: 0.4678 - val_accuracy: 0.7922\n",
      "Epoch 15/50\n",
      "20/20 [==============================] - 0s 5ms/step - loss: 0.4637 - accuracy: 0.7752 - val_loss: 0.4670 - val_accuracy: 0.7922\n",
      "Epoch 16/50\n",
      "20/20 [==============================] - 0s 6ms/step - loss: 0.4612 - accuracy: 0.7785 - val_loss: 0.4658 - val_accuracy: 0.7922\n",
      "Epoch 17/50\n",
      "20/20 [==============================] - 0s 5ms/step - loss: 0.4595 - accuracy: 0.7834 - val_loss: 0.4642 - val_accuracy: 0.7922\n",
      "Epoch 18/50\n",
      "20/20 [==============================] - 0s 5ms/step - loss: 0.4576 - accuracy: 0.7801 - val_loss: 0.4635 - val_accuracy: 0.7922\n",
      "Epoch 19/50\n",
      "20/20 [==============================] - 0s 5ms/step - loss: 0.4561 - accuracy: 0.7801 - val_loss: 0.4626 - val_accuracy: 0.7922\n",
      "Epoch 20/50\n",
      "20/20 [==============================] - 0s 5ms/step - loss: 0.4545 - accuracy: 0.7818 - val_loss: 0.4611 - val_accuracy: 0.7922\n",
      "Epoch 21/50\n",
      "20/20 [==============================] - 0s 5ms/step - loss: 0.4532 - accuracy: 0.7720 - val_loss: 0.4601 - val_accuracy: 0.7857\n",
      "Epoch 22/50\n",
      "20/20 [==============================] - 0s 5ms/step - loss: 0.4520 - accuracy: 0.7752 - val_loss: 0.4591 - val_accuracy: 0.7857\n",
      "Epoch 23/50\n",
      "20/20 [==============================] - 0s 6ms/step - loss: 0.4507 - accuracy: 0.7752 - val_loss: 0.4583 - val_accuracy: 0.7857\n",
      "Epoch 24/50\n",
      "20/20 [==============================] - 0s 8ms/step - loss: 0.4500 - accuracy: 0.7785 - val_loss: 0.4576 - val_accuracy: 0.7857\n",
      "Epoch 25/50\n",
      "20/20 [==============================] - 0s 8ms/step - loss: 0.4490 - accuracy: 0.7736 - val_loss: 0.4574 - val_accuracy: 0.7857\n",
      "Epoch 26/50\n",
      "20/20 [==============================] - 0s 8ms/step - loss: 0.4482 - accuracy: 0.7769 - val_loss: 0.4573 - val_accuracy: 0.7922\n",
      "Epoch 27/50\n",
      "20/20 [==============================] - 0s 7ms/step - loss: 0.4475 - accuracy: 0.7736 - val_loss: 0.4564 - val_accuracy: 0.7857\n",
      "Epoch 28/50\n",
      "20/20 [==============================] - 0s 7ms/step - loss: 0.4467 - accuracy: 0.7704 - val_loss: 0.4557 - val_accuracy: 0.7857\n",
      "Epoch 29/50\n",
      "20/20 [==============================] - 0s 7ms/step - loss: 0.4458 - accuracy: 0.7720 - val_loss: 0.4563 - val_accuracy: 0.7857\n",
      "Epoch 30/50\n",
      "20/20 [==============================] - 0s 8ms/step - loss: 0.4450 - accuracy: 0.7736 - val_loss: 0.4571 - val_accuracy: 0.7857\n",
      "Epoch 31/50\n",
      "20/20 [==============================] - 0s 7ms/step - loss: 0.4443 - accuracy: 0.7720 - val_loss: 0.4566 - val_accuracy: 0.7857\n",
      "Epoch 32/50\n",
      "20/20 [==============================] - 0s 6ms/step - loss: 0.4440 - accuracy: 0.7752 - val_loss: 0.4565 - val_accuracy: 0.7857\n",
      "Epoch 33/50\n",
      "20/20 [==============================] - 0s 7ms/step - loss: 0.4432 - accuracy: 0.7752 - val_loss: 0.4563 - val_accuracy: 0.7857\n",
      "Epoch 34/50\n",
      "20/20 [==============================] - 0s 7ms/step - loss: 0.4431 - accuracy: 0.7736 - val_loss: 0.4561 - val_accuracy: 0.7857\n",
      "Epoch 35/50\n",
      "20/20 [==============================] - 0s 8ms/step - loss: 0.4420 - accuracy: 0.7769 - val_loss: 0.4564 - val_accuracy: 0.7922\n",
      "Epoch 36/50\n",
      "20/20 [==============================] - 0s 8ms/step - loss: 0.4415 - accuracy: 0.7736 - val_loss: 0.4561 - val_accuracy: 0.7922\n",
      "Epoch 37/50\n",
      "20/20 [==============================] - 0s 7ms/step - loss: 0.4407 - accuracy: 0.7785 - val_loss: 0.4554 - val_accuracy: 0.7857\n",
      "Epoch 38/50\n",
      "20/20 [==============================] - 0s 7ms/step - loss: 0.4404 - accuracy: 0.7769 - val_loss: 0.4552 - val_accuracy: 0.7857\n",
      "Epoch 39/50\n",
      "20/20 [==============================] - 0s 8ms/step - loss: 0.4401 - accuracy: 0.7769 - val_loss: 0.4549 - val_accuracy: 0.7922\n",
      "Epoch 40/50\n",
      "20/20 [==============================] - 0s 6ms/step - loss: 0.4392 - accuracy: 0.7785 - val_loss: 0.4543 - val_accuracy: 0.7922\n",
      "Epoch 41/50\n",
      "20/20 [==============================] - 0s 6ms/step - loss: 0.4388 - accuracy: 0.7785 - val_loss: 0.4540 - val_accuracy: 0.7857\n",
      "Epoch 42/50\n",
      "20/20 [==============================] - 0s 6ms/step - loss: 0.4386 - accuracy: 0.7769 - val_loss: 0.4547 - val_accuracy: 0.7857\n",
      "Epoch 43/50\n",
      "20/20 [==============================] - 0s 7ms/step - loss: 0.4381 - accuracy: 0.7785 - val_loss: 0.4544 - val_accuracy: 0.7857\n",
      "Epoch 44/50\n",
      "20/20 [==============================] - 0s 7ms/step - loss: 0.4374 - accuracy: 0.7818 - val_loss: 0.4533 - val_accuracy: 0.7922\n",
      "Epoch 45/50\n",
      "20/20 [==============================] - 0s 7ms/step - loss: 0.4374 - accuracy: 0.7752 - val_loss: 0.4532 - val_accuracy: 0.7857\n",
      "Epoch 46/50\n",
      "20/20 [==============================] - 0s 7ms/step - loss: 0.4365 - accuracy: 0.7818 - val_loss: 0.4536 - val_accuracy: 0.7857\n",
      "Epoch 47/50\n",
      "20/20 [==============================] - 0s 7ms/step - loss: 0.4363 - accuracy: 0.7785 - val_loss: 0.4540 - val_accuracy: 0.7922\n",
      "Epoch 48/50\n",
      "20/20 [==============================] - 0s 7ms/step - loss: 0.4360 - accuracy: 0.7801 - val_loss: 0.4556 - val_accuracy: 0.7922\n",
      "Epoch 49/50\n",
      "20/20 [==============================] - 0s 7ms/step - loss: 0.4353 - accuracy: 0.7785 - val_loss: 0.4553 - val_accuracy: 0.7987\n",
      "Epoch 50/50\n",
      "20/20 [==============================] - 0s 8ms/step - loss: 0.4349 - accuracy: 0.7801 - val_loss: 0.4552 - val_accuracy: 0.7922\n"
     ]
    },
    {
     "data": {
      "text/plain": [
       "<keras.src.callbacks.History at 0x2553430dc50>"
      ]
     },
     "execution_count": 21,
     "metadata": {},
     "output_type": "execute_result"
    }
   ],
   "source": [
    "model.fit(X_train,y_train,batch_size=32,epochs=50,initial_epoch=5,validation_data=(X_test,y_test))"
   ]
  },
  {
   "cell_type": "code",
   "execution_count": 22,
   "id": "1badbce8",
   "metadata": {},
   "outputs": [],
   "source": [
    "#optimize no. of neurons\n",
    "def build_model(hp):\n",
    "    model=Sequential()\n",
    "    #hp.Int(start,end,step)\n",
    "    units=hp.Int('units',8,128,step=8)\n",
    "    model.add(Dense(units=units,activation='relu',input_dim=8))\n",
    "    model.add(Dense(1,activation='sigmoid'))\n",
    "    \n",
    "    model.compile(optimizer='adam',loss='binary_crossentropy',metrics=['accuracy'])\n",
    "    \n",
    "    return model"
   ]
  },
  {
   "cell_type": "code",
   "execution_count": 23,
   "id": "a64265e1",
   "metadata": {},
   "outputs": [],
   "source": [
    "tuner=kt.RandomSearch(build_model\n",
    "                      ,objective='val_accuracy',\n",
    "                      max_trials=5,\n",
    "                      directory='mydir',\n",
    "                      project_name='neurons'\n",
    "                     )"
   ]
  },
  {
   "cell_type": "code",
   "execution_count": 24,
   "id": "29182b96",
   "metadata": {},
   "outputs": [
    {
     "name": "stdout",
     "output_type": "stream",
     "text": [
      "Trial 5 Complete [00h 00m 03s]\n",
      "val_accuracy: 0.7857142686843872\n",
      "\n",
      "Best val_accuracy So Far: 0.7922077775001526\n",
      "Total elapsed time: 00h 00m 15s\n",
      "INFO:tensorflow:Oracle triggered exit\n"
     ]
    }
   ],
   "source": [
    "tuner.search(X_train,y_train,epochs=5,validation_data=(X_test,y_test))"
   ]
  },
  {
   "cell_type": "code",
   "execution_count": 25,
   "id": "d3345eba",
   "metadata": {},
   "outputs": [
    {
     "data": {
      "text/plain": [
       "{'units': 64}"
      ]
     },
     "execution_count": 25,
     "metadata": {},
     "output_type": "execute_result"
    }
   ],
   "source": [
    "tuner.get_best_hyperparameters()[0].values"
   ]
  },
  {
   "cell_type": "code",
   "execution_count": 26,
   "id": "de7a1fd5",
   "metadata": {},
   "outputs": [],
   "source": [
    "model=tuner.get_best_models(num_models=1)[0]"
   ]
  },
  {
   "cell_type": "code",
   "execution_count": 27,
   "id": "87a82752",
   "metadata": {},
   "outputs": [
    {
     "name": "stdout",
     "output_type": "stream",
     "text": [
      "Model: \"sequential\"\n",
      "_________________________________________________________________\n",
      " Layer (type)                Output Shape              Param #   \n",
      "=================================================================\n",
      " dense (Dense)               (None, 64)                576       \n",
      "                                                                 \n",
      " dense_1 (Dense)             (None, 1)                 65        \n",
      "                                                                 \n",
      "=================================================================\n",
      "Total params: 641 (2.50 KB)\n",
      "Trainable params: 641 (2.50 KB)\n",
      "Non-trainable params: 0 (0.00 Byte)\n",
      "_________________________________________________________________\n"
     ]
    }
   ],
   "source": [
    "model.summary()"
   ]
  },
  {
   "cell_type": "code",
   "execution_count": 28,
   "id": "e36e7f8a",
   "metadata": {},
   "outputs": [
    {
     "name": "stdout",
     "output_type": "stream",
     "text": [
      "Epoch 6/50\n",
      "20/20 [==============================] - 2s 20ms/step - loss: 0.5054 - accuracy: 0.7590 - val_loss: 0.4872 - val_accuracy: 0.7987\n",
      "Epoch 7/50\n",
      "20/20 [==============================] - 0s 7ms/step - loss: 0.4929 - accuracy: 0.7671 - val_loss: 0.4768 - val_accuracy: 0.7857\n",
      "Epoch 8/50\n",
      "20/20 [==============================] - 0s 6ms/step - loss: 0.4827 - accuracy: 0.7704 - val_loss: 0.4729 - val_accuracy: 0.7857\n",
      "Epoch 9/50\n",
      "20/20 [==============================] - 0s 7ms/step - loss: 0.4752 - accuracy: 0.7818 - val_loss: 0.4691 - val_accuracy: 0.7922\n",
      "Epoch 10/50\n",
      "20/20 [==============================] - 0s 7ms/step - loss: 0.4691 - accuracy: 0.7785 - val_loss: 0.4652 - val_accuracy: 0.7922\n",
      "Epoch 11/50\n",
      "20/20 [==============================] - 0s 7ms/step - loss: 0.4643 - accuracy: 0.7769 - val_loss: 0.4626 - val_accuracy: 0.7922\n",
      "Epoch 12/50\n",
      "20/20 [==============================] - 0s 7ms/step - loss: 0.4608 - accuracy: 0.7769 - val_loss: 0.4598 - val_accuracy: 0.7922\n",
      "Epoch 13/50\n",
      "20/20 [==============================] - 0s 6ms/step - loss: 0.4577 - accuracy: 0.7769 - val_loss: 0.4597 - val_accuracy: 0.7857\n",
      "Epoch 14/50\n",
      "20/20 [==============================] - 0s 7ms/step - loss: 0.4552 - accuracy: 0.7834 - val_loss: 0.4598 - val_accuracy: 0.7857\n",
      "Epoch 15/50\n",
      "20/20 [==============================] - 0s 8ms/step - loss: 0.4538 - accuracy: 0.7818 - val_loss: 0.4591 - val_accuracy: 0.7857\n",
      "Epoch 16/50\n",
      "20/20 [==============================] - 0s 7ms/step - loss: 0.4516 - accuracy: 0.7752 - val_loss: 0.4594 - val_accuracy: 0.7922\n",
      "Epoch 17/50\n",
      "20/20 [==============================] - 0s 7ms/step - loss: 0.4499 - accuracy: 0.7752 - val_loss: 0.4586 - val_accuracy: 0.7922\n",
      "Epoch 18/50\n",
      "20/20 [==============================] - 0s 6ms/step - loss: 0.4486 - accuracy: 0.7752 - val_loss: 0.4593 - val_accuracy: 0.7857\n",
      "Epoch 19/50\n",
      "20/20 [==============================] - 0s 7ms/step - loss: 0.4472 - accuracy: 0.7736 - val_loss: 0.4579 - val_accuracy: 0.7857\n",
      "Epoch 20/50\n",
      "20/20 [==============================] - 0s 7ms/step - loss: 0.4466 - accuracy: 0.7801 - val_loss: 0.4589 - val_accuracy: 0.7857\n",
      "Epoch 21/50\n",
      "20/20 [==============================] - 0s 6ms/step - loss: 0.4451 - accuracy: 0.7818 - val_loss: 0.4579 - val_accuracy: 0.7857\n",
      "Epoch 22/50\n",
      "20/20 [==============================] - 0s 6ms/step - loss: 0.4450 - accuracy: 0.7704 - val_loss: 0.4566 - val_accuracy: 0.7922\n",
      "Epoch 23/50\n",
      "20/20 [==============================] - 0s 6ms/step - loss: 0.4432 - accuracy: 0.7752 - val_loss: 0.4569 - val_accuracy: 0.7922\n",
      "Epoch 24/50\n",
      "20/20 [==============================] - 0s 7ms/step - loss: 0.4423 - accuracy: 0.7704 - val_loss: 0.4579 - val_accuracy: 0.7857\n",
      "Epoch 25/50\n",
      "20/20 [==============================] - 0s 7ms/step - loss: 0.4419 - accuracy: 0.7769 - val_loss: 0.4585 - val_accuracy: 0.7727\n",
      "Epoch 26/50\n",
      "20/20 [==============================] - 0s 7ms/step - loss: 0.4408 - accuracy: 0.7785 - val_loss: 0.4585 - val_accuracy: 0.7857\n",
      "Epoch 27/50\n",
      "20/20 [==============================] - 0s 7ms/step - loss: 0.4401 - accuracy: 0.7769 - val_loss: 0.4589 - val_accuracy: 0.7922\n",
      "Epoch 28/50\n",
      "20/20 [==============================] - 0s 7ms/step - loss: 0.4396 - accuracy: 0.7769 - val_loss: 0.4565 - val_accuracy: 0.7987\n",
      "Epoch 29/50\n",
      "20/20 [==============================] - 0s 6ms/step - loss: 0.4389 - accuracy: 0.7736 - val_loss: 0.4573 - val_accuracy: 0.7987\n",
      "Epoch 30/50\n",
      "20/20 [==============================] - 0s 7ms/step - loss: 0.4382 - accuracy: 0.7769 - val_loss: 0.4576 - val_accuracy: 0.7987\n",
      "Epoch 31/50\n",
      "20/20 [==============================] - 0s 6ms/step - loss: 0.4371 - accuracy: 0.7801 - val_loss: 0.4600 - val_accuracy: 0.7922\n",
      "Epoch 32/50\n",
      "20/20 [==============================] - 0s 6ms/step - loss: 0.4369 - accuracy: 0.7785 - val_loss: 0.4596 - val_accuracy: 0.7987\n",
      "Epoch 33/50\n",
      "20/20 [==============================] - 0s 5ms/step - loss: 0.4368 - accuracy: 0.7785 - val_loss: 0.4583 - val_accuracy: 0.7987\n",
      "Epoch 34/50\n",
      "20/20 [==============================] - 0s 6ms/step - loss: 0.4348 - accuracy: 0.7801 - val_loss: 0.4580 - val_accuracy: 0.7987\n",
      "Epoch 35/50\n",
      "20/20 [==============================] - 0s 6ms/step - loss: 0.4357 - accuracy: 0.7818 - val_loss: 0.4614 - val_accuracy: 0.7857\n",
      "Epoch 36/50\n",
      "20/20 [==============================] - 0s 6ms/step - loss: 0.4343 - accuracy: 0.7818 - val_loss: 0.4596 - val_accuracy: 0.7987\n",
      "Epoch 37/50\n",
      "20/20 [==============================] - 0s 6ms/step - loss: 0.4334 - accuracy: 0.7801 - val_loss: 0.4575 - val_accuracy: 0.7987\n",
      "Epoch 38/50\n",
      "20/20 [==============================] - 0s 6ms/step - loss: 0.4329 - accuracy: 0.7801 - val_loss: 0.4582 - val_accuracy: 0.7987\n",
      "Epoch 39/50\n",
      "20/20 [==============================] - 0s 6ms/step - loss: 0.4326 - accuracy: 0.7818 - val_loss: 0.4570 - val_accuracy: 0.7987\n",
      "Epoch 40/50\n",
      "20/20 [==============================] - 0s 6ms/step - loss: 0.4316 - accuracy: 0.7818 - val_loss: 0.4567 - val_accuracy: 0.7987\n",
      "Epoch 41/50\n",
      "20/20 [==============================] - 0s 9ms/step - loss: 0.4325 - accuracy: 0.7818 - val_loss: 0.4557 - val_accuracy: 0.7987\n",
      "Epoch 42/50\n",
      "20/20 [==============================] - 0s 9ms/step - loss: 0.4305 - accuracy: 0.7818 - val_loss: 0.4562 - val_accuracy: 0.8052\n",
      "Epoch 43/50\n",
      "20/20 [==============================] - 0s 9ms/step - loss: 0.4296 - accuracy: 0.7834 - val_loss: 0.4572 - val_accuracy: 0.7987\n",
      "Epoch 44/50\n",
      "20/20 [==============================] - 0s 7ms/step - loss: 0.4296 - accuracy: 0.7883 - val_loss: 0.4557 - val_accuracy: 0.7987\n",
      "Epoch 45/50\n",
      "20/20 [==============================] - 0s 7ms/step - loss: 0.4299 - accuracy: 0.7883 - val_loss: 0.4564 - val_accuracy: 0.8052\n",
      "Epoch 46/50\n",
      "20/20 [==============================] - 0s 8ms/step - loss: 0.4281 - accuracy: 0.7866 - val_loss: 0.4571 - val_accuracy: 0.8052\n",
      "Epoch 47/50\n",
      "20/20 [==============================] - 0s 6ms/step - loss: 0.4280 - accuracy: 0.7850 - val_loss: 0.4587 - val_accuracy: 0.8052\n",
      "Epoch 48/50\n",
      "20/20 [==============================] - 0s 6ms/step - loss: 0.4276 - accuracy: 0.7883 - val_loss: 0.4569 - val_accuracy: 0.7922\n",
      "Epoch 49/50\n",
      "20/20 [==============================] - 0s 5ms/step - loss: 0.4264 - accuracy: 0.7964 - val_loss: 0.4571 - val_accuracy: 0.7987\n",
      "Epoch 50/50\n",
      "20/20 [==============================] - 0s 5ms/step - loss: 0.4261 - accuracy: 0.7915 - val_loss: 0.4587 - val_accuracy: 0.8052\n"
     ]
    },
    {
     "data": {
      "text/plain": [
       "<keras.src.callbacks.History at 0x1ebbd919850>"
      ]
     },
     "execution_count": 28,
     "metadata": {},
     "output_type": "execute_result"
    }
   ],
   "source": [
    "model.fit(X_train,y_train,batch_size=32,epochs=50,initial_epoch=5,validation_data=(X_test,y_test))"
   ]
  },
  {
   "cell_type": "code",
   "execution_count": 22,
   "id": "e3a40a3d",
   "metadata": {},
   "outputs": [],
   "source": [
    "#number of layers\n",
    "def build_model(hp):\n",
    "    model=Sequential()\n",
    "    model.add(Dense(64,activation='relu',input_dim=8))\n",
    "    for i in range(hp.Int('num_layers',min_value=1,max_value=10)):\n",
    "        model.add(Dense(64,activation='relu'))\n",
    "    model.add(Dense(1,activation='sigmoid'))\n",
    "    \n",
    "    model.compile(optimizer='rmsprop',loss='binary_crossentropy',metrics=['accuracy'])\n",
    "    return model\n",
    "        "
   ]
  },
  {
   "cell_type": "code",
   "execution_count": 23,
   "id": "36aa2f19",
   "metadata": {},
   "outputs": [],
   "source": [
    "tuner=kt.RandomSearch(\n",
    "                    build_model,\n",
    "                    objective='val_accuracy',\n",
    "                    max_trials=3,\n",
    "                    directory='mydir',\n",
    "                    project_name='num_layers'\n",
    "    \n",
    ")"
   ]
  },
  {
   "cell_type": "code",
   "execution_count": 24,
   "id": "a920c42b",
   "metadata": {},
   "outputs": [
    {
     "name": "stdout",
     "output_type": "stream",
     "text": [
      "Trial 3 Complete [00h 00m 03s]\n",
      "val_accuracy: 0.8311688303947449\n",
      "\n",
      "Best val_accuracy So Far: 0.8311688303947449\n",
      "Total elapsed time: 00h 00m 10s\n",
      "INFO:tensorflow:Oracle triggered exit\n"
     ]
    }
   ],
   "source": [
    "tuner.search(X_train,y_train,epochs=5,validation_data=(X_test,y_test))"
   ]
  },
  {
   "cell_type": "code",
   "execution_count": 25,
   "id": "4cc38137",
   "metadata": {},
   "outputs": [
    {
     "data": {
      "text/plain": [
       "{'num_layers': 1}"
      ]
     },
     "execution_count": 25,
     "metadata": {},
     "output_type": "execute_result"
    }
   ],
   "source": [
    "tuner.get_best_hyperparameters()[0].values"
   ]
  },
  {
   "cell_type": "code",
   "execution_count": 26,
   "id": "7661e24f",
   "metadata": {},
   "outputs": [],
   "source": [
    "model=tuner.get_best_models(num_models=1)[0]"
   ]
  },
  {
   "cell_type": "code",
   "execution_count": 27,
   "id": "4d1a44f9",
   "metadata": {},
   "outputs": [
    {
     "name": "stdout",
     "output_type": "stream",
     "text": [
      "Model: \"sequential\"\n",
      "_________________________________________________________________\n",
      " Layer (type)                Output Shape              Param #   \n",
      "=================================================================\n",
      " dense (Dense)               (None, 64)                576       \n",
      "                                                                 \n",
      " dense_1 (Dense)             (None, 64)                4160      \n",
      "                                                                 \n",
      " dense_2 (Dense)             (None, 1)                 65        \n",
      "                                                                 \n",
      "=================================================================\n",
      "Total params: 4801 (18.75 KB)\n",
      "Trainable params: 4801 (18.75 KB)\n",
      "Non-trainable params: 0 (0.00 Byte)\n",
      "_________________________________________________________________\n"
     ]
    }
   ],
   "source": [
    "model.summary()"
   ]
  },
  {
   "cell_type": "code",
   "execution_count": 28,
   "id": "277b8bb6",
   "metadata": {},
   "outputs": [
    {
     "name": "stdout",
     "output_type": "stream",
     "text": [
      "Epoch 6/50\n",
      "20/20 [==============================] - 1s 18ms/step - loss: 0.4857 - accuracy: 0.7704 - val_loss: 0.4840 - val_accuracy: 0.7922\n",
      "Epoch 7/50\n",
      "20/20 [==============================] - 0s 6ms/step - loss: 0.4691 - accuracy: 0.7785 - val_loss: 0.4758 - val_accuracy: 0.7922\n",
      "Epoch 8/50\n",
      "20/20 [==============================] - 0s 5ms/step - loss: 0.4593 - accuracy: 0.7704 - val_loss: 0.4731 - val_accuracy: 0.7987\n",
      "Epoch 9/50\n",
      "20/20 [==============================] - 0s 5ms/step - loss: 0.4546 - accuracy: 0.7687 - val_loss: 0.4696 - val_accuracy: 0.7987\n",
      "Epoch 10/50\n",
      "20/20 [==============================] - 0s 5ms/step - loss: 0.4506 - accuracy: 0.7801 - val_loss: 0.4689 - val_accuracy: 0.7987\n",
      "Epoch 11/50\n",
      "20/20 [==============================] - 0s 5ms/step - loss: 0.4467 - accuracy: 0.7752 - val_loss: 0.4710 - val_accuracy: 0.7792\n",
      "Epoch 12/50\n",
      "20/20 [==============================] - 0s 5ms/step - loss: 0.4438 - accuracy: 0.7671 - val_loss: 0.4688 - val_accuracy: 0.8052\n",
      "Epoch 13/50\n",
      "20/20 [==============================] - 0s 6ms/step - loss: 0.4407 - accuracy: 0.7785 - val_loss: 0.4701 - val_accuracy: 0.7857\n",
      "Epoch 14/50\n",
      "20/20 [==============================] - 0s 6ms/step - loss: 0.4372 - accuracy: 0.7704 - val_loss: 0.4667 - val_accuracy: 0.8117\n",
      "Epoch 15/50\n",
      "20/20 [==============================] - 0s 5ms/step - loss: 0.4339 - accuracy: 0.7785 - val_loss: 0.4732 - val_accuracy: 0.7922\n",
      "Epoch 16/50\n",
      "20/20 [==============================] - 0s 5ms/step - loss: 0.4327 - accuracy: 0.7834 - val_loss: 0.4674 - val_accuracy: 0.7922\n",
      "Epoch 17/50\n",
      "20/20 [==============================] - 0s 5ms/step - loss: 0.4290 - accuracy: 0.7834 - val_loss: 0.4696 - val_accuracy: 0.7987\n",
      "Epoch 18/50\n",
      "20/20 [==============================] - 0s 6ms/step - loss: 0.4275 - accuracy: 0.7850 - val_loss: 0.4710 - val_accuracy: 0.7857\n",
      "Epoch 19/50\n",
      "20/20 [==============================] - 0s 5ms/step - loss: 0.4235 - accuracy: 0.7866 - val_loss: 0.4683 - val_accuracy: 0.8052\n",
      "Epoch 20/50\n",
      "20/20 [==============================] - 0s 5ms/step - loss: 0.4226 - accuracy: 0.7997 - val_loss: 0.4692 - val_accuracy: 0.8052\n",
      "Epoch 21/50\n",
      "20/20 [==============================] - 0s 6ms/step - loss: 0.4193 - accuracy: 0.8013 - val_loss: 0.4680 - val_accuracy: 0.7987\n",
      "Epoch 22/50\n",
      "20/20 [==============================] - 0s 7ms/step - loss: 0.4174 - accuracy: 0.7948 - val_loss: 0.4688 - val_accuracy: 0.7987\n",
      "Epoch 23/50\n",
      "20/20 [==============================] - 0s 7ms/step - loss: 0.4150 - accuracy: 0.7899 - val_loss: 0.4638 - val_accuracy: 0.8117\n",
      "Epoch 24/50\n",
      "20/20 [==============================] - 0s 6ms/step - loss: 0.4122 - accuracy: 0.8029 - val_loss: 0.4652 - val_accuracy: 0.8052\n",
      "Epoch 25/50\n",
      "20/20 [==============================] - 0s 6ms/step - loss: 0.4120 - accuracy: 0.7980 - val_loss: 0.4667 - val_accuracy: 0.7922\n",
      "Epoch 26/50\n",
      "20/20 [==============================] - 0s 6ms/step - loss: 0.4090 - accuracy: 0.8078 - val_loss: 0.4623 - val_accuracy: 0.8052\n",
      "Epoch 27/50\n",
      "20/20 [==============================] - 0s 6ms/step - loss: 0.4088 - accuracy: 0.8013 - val_loss: 0.4658 - val_accuracy: 0.7922\n",
      "Epoch 28/50\n",
      "20/20 [==============================] - 0s 7ms/step - loss: 0.4058 - accuracy: 0.8029 - val_loss: 0.4644 - val_accuracy: 0.7987\n",
      "Epoch 29/50\n",
      "20/20 [==============================] - 0s 7ms/step - loss: 0.4037 - accuracy: 0.8029 - val_loss: 0.4668 - val_accuracy: 0.8052\n",
      "Epoch 30/50\n",
      "20/20 [==============================] - 0s 7ms/step - loss: 0.4019 - accuracy: 0.8094 - val_loss: 0.4682 - val_accuracy: 0.8052\n",
      "Epoch 31/50\n",
      "20/20 [==============================] - 0s 7ms/step - loss: 0.3992 - accuracy: 0.8111 - val_loss: 0.4682 - val_accuracy: 0.7922\n",
      "Epoch 32/50\n",
      "20/20 [==============================] - 0s 7ms/step - loss: 0.3983 - accuracy: 0.8078 - val_loss: 0.4671 - val_accuracy: 0.8117\n",
      "Epoch 33/50\n",
      "20/20 [==============================] - 0s 9ms/step - loss: 0.3941 - accuracy: 0.8257 - val_loss: 0.4659 - val_accuracy: 0.8052\n",
      "Epoch 34/50\n",
      "20/20 [==============================] - 0s 9ms/step - loss: 0.3935 - accuracy: 0.8208 - val_loss: 0.4684 - val_accuracy: 0.8117\n",
      "Epoch 35/50\n",
      "20/20 [==============================] - 0s 8ms/step - loss: 0.3913 - accuracy: 0.8160 - val_loss: 0.4713 - val_accuracy: 0.7987\n",
      "Epoch 36/50\n",
      "20/20 [==============================] - 0s 9ms/step - loss: 0.3898 - accuracy: 0.8257 - val_loss: 0.4716 - val_accuracy: 0.8052\n",
      "Epoch 37/50\n",
      "20/20 [==============================] - 0s 8ms/step - loss: 0.3902 - accuracy: 0.8127 - val_loss: 0.4660 - val_accuracy: 0.8247\n",
      "Epoch 38/50\n",
      "20/20 [==============================] - 0s 8ms/step - loss: 0.3886 - accuracy: 0.8192 - val_loss: 0.4677 - val_accuracy: 0.7922\n",
      "Epoch 39/50\n",
      "20/20 [==============================] - 0s 7ms/step - loss: 0.3866 - accuracy: 0.8160 - val_loss: 0.4676 - val_accuracy: 0.7987\n",
      "Epoch 40/50\n",
      "20/20 [==============================] - 0s 7ms/step - loss: 0.3830 - accuracy: 0.8192 - val_loss: 0.4725 - val_accuracy: 0.7987\n",
      "Epoch 41/50\n",
      "20/20 [==============================] - 0s 7ms/step - loss: 0.3801 - accuracy: 0.8225 - val_loss: 0.4741 - val_accuracy: 0.7987\n",
      "Epoch 42/50\n",
      "20/20 [==============================] - 0s 7ms/step - loss: 0.3792 - accuracy: 0.8257 - val_loss: 0.4721 - val_accuracy: 0.8052\n",
      "Epoch 43/50\n",
      "20/20 [==============================] - 0s 7ms/step - loss: 0.3787 - accuracy: 0.8371 - val_loss: 0.4719 - val_accuracy: 0.8117\n",
      "Epoch 44/50\n",
      "20/20 [==============================] - 0s 7ms/step - loss: 0.3756 - accuracy: 0.8274 - val_loss: 0.4729 - val_accuracy: 0.8052\n",
      "Epoch 45/50\n",
      "20/20 [==============================] - 0s 7ms/step - loss: 0.3747 - accuracy: 0.8306 - val_loss: 0.4754 - val_accuracy: 0.8052\n",
      "Epoch 46/50\n",
      "20/20 [==============================] - 0s 8ms/step - loss: 0.3724 - accuracy: 0.8355 - val_loss: 0.4827 - val_accuracy: 0.7987\n",
      "Epoch 47/50\n",
      "20/20 [==============================] - 0s 8ms/step - loss: 0.3724 - accuracy: 0.8404 - val_loss: 0.4810 - val_accuracy: 0.8052\n",
      "Epoch 48/50\n",
      "20/20 [==============================] - 0s 8ms/step - loss: 0.3704 - accuracy: 0.8339 - val_loss: 0.4863 - val_accuracy: 0.7987\n",
      "Epoch 49/50\n",
      "20/20 [==============================] - 0s 7ms/step - loss: 0.3676 - accuracy: 0.8371 - val_loss: 0.4875 - val_accuracy: 0.7857\n",
      "Epoch 50/50\n",
      "20/20 [==============================] - 0s 7ms/step - loss: 0.3662 - accuracy: 0.8371 - val_loss: 0.4865 - val_accuracy: 0.7987\n"
     ]
    },
    {
     "data": {
      "text/plain": [
       "<keras.src.callbacks.History at 0x255354b2550>"
      ]
     },
     "execution_count": 28,
     "metadata": {},
     "output_type": "execute_result"
    }
   ],
   "source": [
    "model.fit(X_train,y_train,epochs=50,initial_epoch=5,validation_data=(X_test,y_test))"
   ]
  },
  {
   "cell_type": "code",
   "execution_count": 29,
   "id": "131e0675",
   "metadata": {},
   "outputs": [],
   "source": [
    "def build_model(hp):\n",
    "    model=Sequential()\n",
    "    \n",
    "    counter=0\n",
    "    for i in range(hp.Int('num_layers',min_value=1,max_value=10)):\n",
    "        if counter==0:\n",
    "            model.add(Dense(\n",
    "                hp.Int('units'+str(i),min_value=8,max_value=128,step=8),\n",
    "                activation=hp.Choice('activation'+str(i),values=['relu','tanh','sigmoid']),\n",
    "                input_dim=8\n",
    "            \n",
    "            ))\n",
    "            model.add(Dropout(hp.Choice('dropout' + str(i),values=[0.1,0.2,0.3,0.4,0.5,0.6,0.7,0.8,0.9])))\n",
    "            \n",
    "        else:\n",
    "            model.add(Dense(\n",
    "                hp.Int('units'+str(i),min_value=8,max_value=128,step=8),\n",
    "                activation=hp.Choice('activation'+str(i),values=['relu','tanh','sigmoid']),\n",
    "                input_dim=8\n",
    "            \n",
    "            ))\n",
    "        counter+=1\n",
    "    model.add(Dense(1,activation='sigmoid'))\n",
    "    \n",
    "    model.compile(optimizer=hp.Choice('optimizer',values=['rmsprop','adam','sgd','nadam','adadelta']),\n",
    "                 loss='binary_crossentropy',\n",
    "                  metrics=['accuracy']\n",
    "                 )\n",
    "    \n",
    "    return model\n",
    "            \n",
    "        "
   ]
  },
  {
   "cell_type": "code",
   "execution_count": 30,
   "id": "b3bc2cec",
   "metadata": {},
   "outputs": [],
   "source": [
    "tuner=kt.RandomSearch(build_model,\n",
    "                     objective='val_accuracy',\n",
    "                      max_trials=3,\n",
    "                      directory='mydir',\n",
    "                      project_name='final1'\n",
    "                      \n",
    "                     )"
   ]
  },
  {
   "cell_type": "code",
   "execution_count": 31,
   "id": "0087b296",
   "metadata": {},
   "outputs": [
    {
     "name": "stdout",
     "output_type": "stream",
     "text": [
      "Trial 3 Complete [00h 00m 04s]\n",
      "val_accuracy: 0.6428571343421936\n",
      "\n",
      "Best val_accuracy So Far: 0.7142857313156128\n",
      "Total elapsed time: 00h 00m 10s\n",
      "INFO:tensorflow:Oracle triggered exit\n"
     ]
    }
   ],
   "source": [
    "tuner.search(X_train,y_train,epochs=5,validation_data=(X_test,y_test))"
   ]
  },
  {
   "cell_type": "code",
   "execution_count": 32,
   "id": "83149ad1",
   "metadata": {},
   "outputs": [
    {
     "data": {
      "text/plain": [
       "{'num_layers': 2,\n",
       " 'units0': 96,\n",
       " 'activation0': 'sigmoid',\n",
       " 'dropout0': 0.4,\n",
       " 'optimizer': 'rmsprop',\n",
       " 'units1': 24,\n",
       " 'activation1': 'relu',\n",
       " 'units2': 72,\n",
       " 'activation2': 'relu'}"
      ]
     },
     "execution_count": 32,
     "metadata": {},
     "output_type": "execute_result"
    }
   ],
   "source": [
    "tuner.get_best_hyperparameters()[0].values"
   ]
  },
  {
   "cell_type": "code",
   "execution_count": 33,
   "id": "ab38709c",
   "metadata": {},
   "outputs": [],
   "source": [
    "model=tuner.get_best_models(num_models=1)[0]"
   ]
  },
  {
   "cell_type": "code",
   "execution_count": 34,
   "id": "5984d8a7",
   "metadata": {},
   "outputs": [
    {
     "name": "stdout",
     "output_type": "stream",
     "text": [
      "Model: \"sequential\"\n",
      "_________________________________________________________________\n",
      " Layer (type)                Output Shape              Param #   \n",
      "=================================================================\n",
      " dense (Dense)               (None, 96)                864       \n",
      "                                                                 \n",
      " dropout (Dropout)           (None, 96)                0         \n",
      "                                                                 \n",
      " dense_1 (Dense)             (None, 24)                2328      \n",
      "                                                                 \n",
      " dense_2 (Dense)             (None, 1)                 25        \n",
      "                                                                 \n",
      "=================================================================\n",
      "Total params: 3217 (12.57 KB)\n",
      "Trainable params: 3217 (12.57 KB)\n",
      "Non-trainable params: 0 (0.00 Byte)\n",
      "_________________________________________________________________\n"
     ]
    }
   ],
   "source": [
    "model.summary()"
   ]
  },
  {
   "cell_type": "code",
   "execution_count": 35,
   "id": "f3fd15ba",
   "metadata": {},
   "outputs": [
    {
     "name": "stdout",
     "output_type": "stream",
     "text": [
      "Epoch 6/200\n",
      "20/20 [==============================] - 1s 20ms/step - loss: 0.5676 - accuracy: 0.6906 - val_loss: 0.5390 - val_accuracy: 0.7208\n",
      "Epoch 7/200\n",
      "20/20 [==============================] - 0s 6ms/step - loss: 0.5639 - accuracy: 0.7085 - val_loss: 0.5199 - val_accuracy: 0.7662\n",
      "Epoch 8/200\n",
      "20/20 [==============================] - 0s 5ms/step - loss: 0.5772 - accuracy: 0.6889 - val_loss: 0.5169 - val_accuracy: 0.7532\n",
      "Epoch 9/200\n",
      "20/20 [==============================] - 0s 6ms/step - loss: 0.5493 - accuracy: 0.7215 - val_loss: 0.5076 - val_accuracy: 0.7597\n",
      "Epoch 10/200\n",
      "20/20 [==============================] - 0s 6ms/step - loss: 0.5281 - accuracy: 0.7313 - val_loss: 0.4974 - val_accuracy: 0.7662\n",
      "Epoch 11/200\n",
      "20/20 [==============================] - 0s 6ms/step - loss: 0.5467 - accuracy: 0.7362 - val_loss: 0.4913 - val_accuracy: 0.7662\n",
      "Epoch 12/200\n",
      "20/20 [==============================] - 0s 6ms/step - loss: 0.5351 - accuracy: 0.7231 - val_loss: 0.4930 - val_accuracy: 0.7662\n",
      "Epoch 13/200\n",
      "20/20 [==============================] - 0s 6ms/step - loss: 0.5235 - accuracy: 0.7362 - val_loss: 0.4875 - val_accuracy: 0.7727\n",
      "Epoch 14/200\n",
      "20/20 [==============================] - 0s 6ms/step - loss: 0.5173 - accuracy: 0.7410 - val_loss: 0.4815 - val_accuracy: 0.7662\n",
      "Epoch 15/200\n",
      "20/20 [==============================] - 0s 6ms/step - loss: 0.5273 - accuracy: 0.7313 - val_loss: 0.4800 - val_accuracy: 0.7727\n",
      "Epoch 16/200\n",
      "20/20 [==============================] - 0s 5ms/step - loss: 0.4996 - accuracy: 0.7524 - val_loss: 0.4797 - val_accuracy: 0.7662\n",
      "Epoch 17/200\n",
      "20/20 [==============================] - 0s 6ms/step - loss: 0.5263 - accuracy: 0.7280 - val_loss: 0.4794 - val_accuracy: 0.7662\n",
      "Epoch 18/200\n",
      "20/20 [==============================] - 0s 6ms/step - loss: 0.5090 - accuracy: 0.7557 - val_loss: 0.4786 - val_accuracy: 0.7727\n",
      "Epoch 19/200\n",
      "20/20 [==============================] - 0s 8ms/step - loss: 0.5103 - accuracy: 0.7410 - val_loss: 0.4857 - val_accuracy: 0.7727\n",
      "Epoch 20/200\n",
      "20/20 [==============================] - 0s 8ms/step - loss: 0.5079 - accuracy: 0.7557 - val_loss: 0.4764 - val_accuracy: 0.7727\n",
      "Epoch 21/200\n",
      "20/20 [==============================] - 0s 8ms/step - loss: 0.5102 - accuracy: 0.7329 - val_loss: 0.4841 - val_accuracy: 0.7727\n",
      "Epoch 22/200\n",
      "20/20 [==============================] - 0s 7ms/step - loss: 0.5218 - accuracy: 0.7541 - val_loss: 0.4769 - val_accuracy: 0.7922\n",
      "Epoch 23/200\n",
      "20/20 [==============================] - 0s 8ms/step - loss: 0.5075 - accuracy: 0.7541 - val_loss: 0.4749 - val_accuracy: 0.7857\n",
      "Epoch 24/200\n",
      "20/20 [==============================] - 0s 8ms/step - loss: 0.5168 - accuracy: 0.7313 - val_loss: 0.4762 - val_accuracy: 0.7857\n",
      "Epoch 25/200\n",
      "20/20 [==============================] - 0s 7ms/step - loss: 0.5234 - accuracy: 0.7394 - val_loss: 0.4803 - val_accuracy: 0.7662\n",
      "Epoch 26/200\n",
      "20/20 [==============================] - 0s 7ms/step - loss: 0.4916 - accuracy: 0.7687 - val_loss: 0.4782 - val_accuracy: 0.7597\n",
      "Epoch 27/200\n",
      "20/20 [==============================] - 0s 7ms/step - loss: 0.5053 - accuracy: 0.7573 - val_loss: 0.4769 - val_accuracy: 0.7597\n",
      "Epoch 28/200\n",
      "20/20 [==============================] - 0s 7ms/step - loss: 0.4968 - accuracy: 0.7573 - val_loss: 0.4767 - val_accuracy: 0.7857\n",
      "Epoch 29/200\n",
      "20/20 [==============================] - 0s 8ms/step - loss: 0.4994 - accuracy: 0.7606 - val_loss: 0.4782 - val_accuracy: 0.7597\n",
      "Epoch 30/200\n",
      "20/20 [==============================] - 0s 8ms/step - loss: 0.4868 - accuracy: 0.7590 - val_loss: 0.4755 - val_accuracy: 0.7857\n",
      "Epoch 31/200\n",
      "20/20 [==============================] - 0s 7ms/step - loss: 0.4985 - accuracy: 0.7606 - val_loss: 0.4745 - val_accuracy: 0.7727\n",
      "Epoch 32/200\n",
      "20/20 [==============================] - 0s 8ms/step - loss: 0.4774 - accuracy: 0.7606 - val_loss: 0.4734 - val_accuracy: 0.7792\n",
      "Epoch 33/200\n",
      "20/20 [==============================] - 0s 8ms/step - loss: 0.5025 - accuracy: 0.7638 - val_loss: 0.4745 - val_accuracy: 0.7922\n",
      "Epoch 34/200\n",
      "20/20 [==============================] - 0s 8ms/step - loss: 0.5022 - accuracy: 0.7508 - val_loss: 0.4750 - val_accuracy: 0.7857\n",
      "Epoch 35/200\n",
      "20/20 [==============================] - 0s 8ms/step - loss: 0.4985 - accuracy: 0.7427 - val_loss: 0.4797 - val_accuracy: 0.7662\n",
      "Epoch 36/200\n",
      "20/20 [==============================] - 0s 8ms/step - loss: 0.4882 - accuracy: 0.7524 - val_loss: 0.4747 - val_accuracy: 0.7857\n",
      "Epoch 37/200\n",
      "20/20 [==============================] - 0s 7ms/step - loss: 0.4796 - accuracy: 0.7573 - val_loss: 0.4783 - val_accuracy: 0.7727\n",
      "Epoch 38/200\n",
      "20/20 [==============================] - 0s 8ms/step - loss: 0.5024 - accuracy: 0.7687 - val_loss: 0.4743 - val_accuracy: 0.7857\n",
      "Epoch 39/200\n",
      "20/20 [==============================] - 0s 8ms/step - loss: 0.4843 - accuracy: 0.7557 - val_loss: 0.4726 - val_accuracy: 0.7922\n",
      "Epoch 40/200\n",
      "20/20 [==============================] - 0s 6ms/step - loss: 0.4954 - accuracy: 0.7524 - val_loss: 0.4822 - val_accuracy: 0.8117\n",
      "Epoch 41/200\n",
      "20/20 [==============================] - 0s 7ms/step - loss: 0.4986 - accuracy: 0.7622 - val_loss: 0.4778 - val_accuracy: 0.7727\n",
      "Epoch 42/200\n",
      "20/20 [==============================] - 0s 7ms/step - loss: 0.5090 - accuracy: 0.7590 - val_loss: 0.4758 - val_accuracy: 0.7922\n",
      "Epoch 43/200\n",
      "20/20 [==============================] - 0s 8ms/step - loss: 0.4849 - accuracy: 0.7720 - val_loss: 0.4749 - val_accuracy: 0.7792\n",
      "Epoch 44/200\n",
      "20/20 [==============================] - 0s 7ms/step - loss: 0.4815 - accuracy: 0.7671 - val_loss: 0.4823 - val_accuracy: 0.8117\n",
      "Epoch 45/200\n",
      "20/20 [==============================] - 0s 7ms/step - loss: 0.4977 - accuracy: 0.7492 - val_loss: 0.4771 - val_accuracy: 0.7792\n",
      "Epoch 46/200\n",
      "20/20 [==============================] - 0s 8ms/step - loss: 0.4868 - accuracy: 0.7622 - val_loss: 0.4737 - val_accuracy: 0.7727\n",
      "Epoch 47/200\n",
      "20/20 [==============================] - 0s 7ms/step - loss: 0.4792 - accuracy: 0.7524 - val_loss: 0.4726 - val_accuracy: 0.7792\n",
      "Epoch 48/200\n",
      "20/20 [==============================] - 0s 7ms/step - loss: 0.4855 - accuracy: 0.7671 - val_loss: 0.4725 - val_accuracy: 0.7727\n",
      "Epoch 49/200\n",
      "20/20 [==============================] - 0s 7ms/step - loss: 0.4929 - accuracy: 0.7590 - val_loss: 0.4746 - val_accuracy: 0.7922\n",
      "Epoch 50/200\n",
      "20/20 [==============================] - 0s 7ms/step - loss: 0.4987 - accuracy: 0.7443 - val_loss: 0.4780 - val_accuracy: 0.7727\n",
      "Epoch 51/200\n",
      "20/20 [==============================] - 0s 8ms/step - loss: 0.4937 - accuracy: 0.7671 - val_loss: 0.4759 - val_accuracy: 0.7792\n",
      "Epoch 52/200\n",
      "20/20 [==============================] - 0s 6ms/step - loss: 0.4906 - accuracy: 0.7557 - val_loss: 0.4782 - val_accuracy: 0.7792\n",
      "Epoch 53/200\n",
      "20/20 [==============================] - 0s 6ms/step - loss: 0.4858 - accuracy: 0.7638 - val_loss: 0.4743 - val_accuracy: 0.7792\n",
      "Epoch 54/200\n",
      "20/20 [==============================] - 0s 6ms/step - loss: 0.4841 - accuracy: 0.7720 - val_loss: 0.4733 - val_accuracy: 0.7792\n",
      "Epoch 55/200\n",
      "20/20 [==============================] - 0s 7ms/step - loss: 0.4837 - accuracy: 0.7655 - val_loss: 0.4731 - val_accuracy: 0.7727\n",
      "Epoch 56/200\n",
      "20/20 [==============================] - 0s 7ms/step - loss: 0.4872 - accuracy: 0.7671 - val_loss: 0.4743 - val_accuracy: 0.7792\n",
      "Epoch 57/200\n",
      "20/20 [==============================] - 0s 7ms/step - loss: 0.4823 - accuracy: 0.7573 - val_loss: 0.4743 - val_accuracy: 0.7792\n",
      "Epoch 58/200\n",
      "20/20 [==============================] - 0s 8ms/step - loss: 0.4929 - accuracy: 0.7671 - val_loss: 0.4725 - val_accuracy: 0.7922\n",
      "Epoch 59/200\n",
      "20/20 [==============================] - 0s 9ms/step - loss: 0.4903 - accuracy: 0.7687 - val_loss: 0.4720 - val_accuracy: 0.7792\n",
      "Epoch 60/200\n",
      "20/20 [==============================] - 0s 9ms/step - loss: 0.4796 - accuracy: 0.7850 - val_loss: 0.4720 - val_accuracy: 0.7792\n",
      "Epoch 61/200\n",
      "20/20 [==============================] - 0s 8ms/step - loss: 0.4952 - accuracy: 0.7622 - val_loss: 0.4746 - val_accuracy: 0.7857\n",
      "Epoch 62/200\n",
      "20/20 [==============================] - 0s 8ms/step - loss: 0.5014 - accuracy: 0.7622 - val_loss: 0.4711 - val_accuracy: 0.7792\n",
      "Epoch 63/200\n",
      "20/20 [==============================] - 0s 7ms/step - loss: 0.4868 - accuracy: 0.7590 - val_loss: 0.4755 - val_accuracy: 0.7792\n"
     ]
    },
    {
     "name": "stdout",
     "output_type": "stream",
     "text": [
      "Epoch 64/200\n",
      "20/20 [==============================] - 0s 8ms/step - loss: 0.4802 - accuracy: 0.7590 - val_loss: 0.4692 - val_accuracy: 0.7792\n",
      "Epoch 65/200\n",
      "20/20 [==============================] - 0s 7ms/step - loss: 0.4746 - accuracy: 0.7736 - val_loss: 0.4703 - val_accuracy: 0.7792\n",
      "Epoch 66/200\n",
      "20/20 [==============================] - 0s 6ms/step - loss: 0.4635 - accuracy: 0.7752 - val_loss: 0.4677 - val_accuracy: 0.7922\n",
      "Epoch 67/200\n",
      "20/20 [==============================] - 0s 6ms/step - loss: 0.4755 - accuracy: 0.7736 - val_loss: 0.4717 - val_accuracy: 0.7857\n",
      "Epoch 68/200\n",
      "20/20 [==============================] - 0s 6ms/step - loss: 0.4774 - accuracy: 0.7606 - val_loss: 0.4682 - val_accuracy: 0.7792\n",
      "Epoch 69/200\n",
      "20/20 [==============================] - 0s 6ms/step - loss: 0.4921 - accuracy: 0.7720 - val_loss: 0.4680 - val_accuracy: 0.7792\n",
      "Epoch 70/200\n",
      "20/20 [==============================] - 0s 7ms/step - loss: 0.4725 - accuracy: 0.7687 - val_loss: 0.4691 - val_accuracy: 0.7792\n",
      "Epoch 71/200\n",
      "20/20 [==============================] - 0s 7ms/step - loss: 0.4799 - accuracy: 0.7785 - val_loss: 0.4680 - val_accuracy: 0.7857\n",
      "Epoch 72/200\n",
      "20/20 [==============================] - 0s 7ms/step - loss: 0.4704 - accuracy: 0.7850 - val_loss: 0.4666 - val_accuracy: 0.7792\n",
      "Epoch 73/200\n",
      "20/20 [==============================] - 0s 7ms/step - loss: 0.4785 - accuracy: 0.7704 - val_loss: 0.4689 - val_accuracy: 0.8052\n",
      "Epoch 74/200\n",
      "20/20 [==============================] - 0s 7ms/step - loss: 0.4834 - accuracy: 0.7590 - val_loss: 0.4720 - val_accuracy: 0.7792\n",
      "Epoch 75/200\n",
      "20/20 [==============================] - 0s 7ms/step - loss: 0.4811 - accuracy: 0.7671 - val_loss: 0.4688 - val_accuracy: 0.7922\n",
      "Epoch 76/200\n",
      "20/20 [==============================] - 0s 8ms/step - loss: 0.4808 - accuracy: 0.7638 - val_loss: 0.4732 - val_accuracy: 0.8052\n",
      "Epoch 77/200\n",
      "20/20 [==============================] - 0s 8ms/step - loss: 0.4861 - accuracy: 0.7427 - val_loss: 0.4705 - val_accuracy: 0.7727\n",
      "Epoch 78/200\n",
      "20/20 [==============================] - 0s 7ms/step - loss: 0.4864 - accuracy: 0.7622 - val_loss: 0.4759 - val_accuracy: 0.7922\n",
      "Epoch 79/200\n",
      "20/20 [==============================] - 0s 7ms/step - loss: 0.4831 - accuracy: 0.7622 - val_loss: 0.4676 - val_accuracy: 0.7792\n",
      "Epoch 80/200\n",
      "20/20 [==============================] - 0s 8ms/step - loss: 0.4730 - accuracy: 0.7655 - val_loss: 0.4671 - val_accuracy: 0.7792\n",
      "Epoch 81/200\n",
      "20/20 [==============================] - 0s 7ms/step - loss: 0.4747 - accuracy: 0.7508 - val_loss: 0.4680 - val_accuracy: 0.8052\n",
      "Epoch 82/200\n",
      "20/20 [==============================] - 0s 8ms/step - loss: 0.4801 - accuracy: 0.7573 - val_loss: 0.4677 - val_accuracy: 0.8117\n",
      "Epoch 83/200\n",
      "20/20 [==============================] - 0s 7ms/step - loss: 0.4744 - accuracy: 0.7590 - val_loss: 0.4715 - val_accuracy: 0.7792\n",
      "Epoch 84/200\n",
      "20/20 [==============================] - 0s 7ms/step - loss: 0.4663 - accuracy: 0.7752 - val_loss: 0.4680 - val_accuracy: 0.8052\n",
      "Epoch 85/200\n",
      "20/20 [==============================] - 0s 8ms/step - loss: 0.4763 - accuracy: 0.7655 - val_loss: 0.4669 - val_accuracy: 0.8052\n",
      "Epoch 86/200\n",
      "20/20 [==============================] - 0s 8ms/step - loss: 0.4844 - accuracy: 0.7590 - val_loss: 0.4670 - val_accuracy: 0.7987\n",
      "Epoch 87/200\n",
      "20/20 [==============================] - 0s 7ms/step - loss: 0.4716 - accuracy: 0.7834 - val_loss: 0.4692 - val_accuracy: 0.7792\n",
      "Epoch 88/200\n",
      "20/20 [==============================] - 0s 7ms/step - loss: 0.4656 - accuracy: 0.7818 - val_loss: 0.4681 - val_accuracy: 0.7727\n",
      "Epoch 89/200\n",
      "20/20 [==============================] - 0s 6ms/step - loss: 0.4684 - accuracy: 0.7769 - val_loss: 0.4673 - val_accuracy: 0.7857\n",
      "Epoch 90/200\n",
      "20/20 [==============================] - 0s 6ms/step - loss: 0.4689 - accuracy: 0.7769 - val_loss: 0.4671 - val_accuracy: 0.7727\n",
      "Epoch 91/200\n",
      "20/20 [==============================] - 0s 7ms/step - loss: 0.4795 - accuracy: 0.7801 - val_loss: 0.4690 - val_accuracy: 0.7792\n",
      "Epoch 92/200\n",
      "20/20 [==============================] - 0s 7ms/step - loss: 0.4722 - accuracy: 0.7850 - val_loss: 0.4662 - val_accuracy: 0.8052\n",
      "Epoch 93/200\n",
      "20/20 [==============================] - 0s 7ms/step - loss: 0.4690 - accuracy: 0.7671 - val_loss: 0.4659 - val_accuracy: 0.7922\n",
      "Epoch 94/200\n",
      "20/20 [==============================] - 0s 7ms/step - loss: 0.4623 - accuracy: 0.7720 - val_loss: 0.4672 - val_accuracy: 0.8052\n",
      "Epoch 95/200\n",
      "20/20 [==============================] - 0s 7ms/step - loss: 0.4596 - accuracy: 0.7785 - val_loss: 0.4660 - val_accuracy: 0.8052\n",
      "Epoch 96/200\n",
      "20/20 [==============================] - 0s 7ms/step - loss: 0.4632 - accuracy: 0.7850 - val_loss: 0.4667 - val_accuracy: 0.7922\n",
      "Epoch 97/200\n",
      "20/20 [==============================] - 0s 8ms/step - loss: 0.4755 - accuracy: 0.7655 - val_loss: 0.4666 - val_accuracy: 0.7922\n",
      "Epoch 98/200\n",
      "20/20 [==============================] - 0s 8ms/step - loss: 0.4788 - accuracy: 0.7704 - val_loss: 0.4721 - val_accuracy: 0.7792\n",
      "Epoch 99/200\n",
      "20/20 [==============================] - 0s 7ms/step - loss: 0.4706 - accuracy: 0.7606 - val_loss: 0.4683 - val_accuracy: 0.7987\n",
      "Epoch 100/200\n",
      "20/20 [==============================] - 0s 6ms/step - loss: 0.4592 - accuracy: 0.7752 - val_loss: 0.4685 - val_accuracy: 0.8052\n",
      "Epoch 101/200\n",
      "20/20 [==============================] - 0s 7ms/step - loss: 0.4678 - accuracy: 0.7736 - val_loss: 0.4669 - val_accuracy: 0.7987\n",
      "Epoch 102/200\n",
      "20/20 [==============================] - 0s 7ms/step - loss: 0.4778 - accuracy: 0.7704 - val_loss: 0.4671 - val_accuracy: 0.7987\n",
      "Epoch 103/200\n",
      "20/20 [==============================] - 0s 8ms/step - loss: 0.4719 - accuracy: 0.7752 - val_loss: 0.4659 - val_accuracy: 0.7987\n",
      "Epoch 104/200\n",
      "20/20 [==============================] - 0s 9ms/step - loss: 0.4762 - accuracy: 0.7720 - val_loss: 0.4702 - val_accuracy: 0.7987\n",
      "Epoch 105/200\n",
      "20/20 [==============================] - 0s 9ms/step - loss: 0.4780 - accuracy: 0.7785 - val_loss: 0.4686 - val_accuracy: 0.8052\n",
      "Epoch 106/200\n",
      "20/20 [==============================] - 0s 11ms/step - loss: 0.4644 - accuracy: 0.7866 - val_loss: 0.4679 - val_accuracy: 0.7857\n",
      "Epoch 107/200\n",
      "20/20 [==============================] - 0s 11ms/step - loss: 0.4633 - accuracy: 0.7850 - val_loss: 0.4657 - val_accuracy: 0.8052\n",
      "Epoch 108/200\n",
      "20/20 [==============================] - 0s 9ms/step - loss: 0.4659 - accuracy: 0.7752 - val_loss: 0.4642 - val_accuracy: 0.8052\n",
      "Epoch 109/200\n",
      "20/20 [==============================] - 0s 9ms/step - loss: 0.4748 - accuracy: 0.7801 - val_loss: 0.4667 - val_accuracy: 0.8052\n",
      "Epoch 110/200\n",
      "20/20 [==============================] - 0s 10ms/step - loss: 0.4712 - accuracy: 0.7866 - val_loss: 0.4666 - val_accuracy: 0.8052\n",
      "Epoch 111/200\n",
      "20/20 [==============================] - 0s 9ms/step - loss: 0.4725 - accuracy: 0.7720 - val_loss: 0.4641 - val_accuracy: 0.8117\n",
      "Epoch 112/200\n",
      "20/20 [==============================] - 0s 8ms/step - loss: 0.4687 - accuracy: 0.7638 - val_loss: 0.4663 - val_accuracy: 0.8052\n",
      "Epoch 113/200\n",
      "20/20 [==============================] - 0s 8ms/step - loss: 0.4665 - accuracy: 0.7834 - val_loss: 0.4645 - val_accuracy: 0.8052\n",
      "Epoch 114/200\n",
      "20/20 [==============================] - 0s 8ms/step - loss: 0.4719 - accuracy: 0.7704 - val_loss: 0.4639 - val_accuracy: 0.8052\n",
      "Epoch 115/200\n",
      "20/20 [==============================] - 0s 7ms/step - loss: 0.4652 - accuracy: 0.7671 - val_loss: 0.4695 - val_accuracy: 0.7792\n",
      "Epoch 116/200\n",
      "20/20 [==============================] - 0s 7ms/step - loss: 0.4742 - accuracy: 0.7622 - val_loss: 0.4671 - val_accuracy: 0.8052\n",
      "Epoch 117/200\n",
      "20/20 [==============================] - 0s 7ms/step - loss: 0.4658 - accuracy: 0.7818 - val_loss: 0.4701 - val_accuracy: 0.7792\n",
      "Epoch 118/200\n",
      "20/20 [==============================] - 0s 9ms/step - loss: 0.4592 - accuracy: 0.7736 - val_loss: 0.4649 - val_accuracy: 0.8052\n",
      "Epoch 119/200\n",
      "20/20 [==============================] - 0s 8ms/step - loss: 0.4651 - accuracy: 0.7834 - val_loss: 0.4647 - val_accuracy: 0.8052\n",
      "Epoch 120/200\n",
      "20/20 [==============================] - 0s 7ms/step - loss: 0.4639 - accuracy: 0.7752 - val_loss: 0.4689 - val_accuracy: 0.7792\n",
      "Epoch 121/200\n"
     ]
    },
    {
     "name": "stdout",
     "output_type": "stream",
     "text": [
      "20/20 [==============================] - 0s 7ms/step - loss: 0.4704 - accuracy: 0.7866 - val_loss: 0.4632 - val_accuracy: 0.8117\n",
      "Epoch 122/200\n",
      "20/20 [==============================] - 0s 7ms/step - loss: 0.4651 - accuracy: 0.7785 - val_loss: 0.4635 - val_accuracy: 0.7987\n",
      "Epoch 123/200\n",
      "20/20 [==============================] - 0s 7ms/step - loss: 0.4800 - accuracy: 0.7752 - val_loss: 0.4631 - val_accuracy: 0.8117\n",
      "Epoch 124/200\n",
      "20/20 [==============================] - 0s 8ms/step - loss: 0.4709 - accuracy: 0.7622 - val_loss: 0.4620 - val_accuracy: 0.8117\n",
      "Epoch 125/200\n",
      "20/20 [==============================] - 0s 7ms/step - loss: 0.4804 - accuracy: 0.7590 - val_loss: 0.4634 - val_accuracy: 0.8052\n",
      "Epoch 126/200\n",
      "20/20 [==============================] - 0s 7ms/step - loss: 0.4576 - accuracy: 0.7818 - val_loss: 0.4614 - val_accuracy: 0.7987\n",
      "Epoch 127/200\n",
      "20/20 [==============================] - 0s 7ms/step - loss: 0.4707 - accuracy: 0.7769 - val_loss: 0.4641 - val_accuracy: 0.8052\n",
      "Epoch 128/200\n",
      "20/20 [==============================] - 0s 7ms/step - loss: 0.4622 - accuracy: 0.7834 - val_loss: 0.4634 - val_accuracy: 0.8117\n",
      "Epoch 129/200\n",
      "20/20 [==============================] - 0s 8ms/step - loss: 0.4715 - accuracy: 0.7687 - val_loss: 0.4626 - val_accuracy: 0.8052\n",
      "Epoch 130/200\n",
      "20/20 [==============================] - 0s 7ms/step - loss: 0.4686 - accuracy: 0.7687 - val_loss: 0.4632 - val_accuracy: 0.8182\n",
      "Epoch 131/200\n",
      "20/20 [==============================] - 0s 7ms/step - loss: 0.4630 - accuracy: 0.7687 - val_loss: 0.4609 - val_accuracy: 0.8117\n",
      "Epoch 132/200\n",
      "20/20 [==============================] - 0s 7ms/step - loss: 0.4670 - accuracy: 0.7720 - val_loss: 0.4625 - val_accuracy: 0.8117\n",
      "Epoch 133/200\n",
      "20/20 [==============================] - 0s 6ms/step - loss: 0.4620 - accuracy: 0.7785 - val_loss: 0.4636 - val_accuracy: 0.8117\n",
      "Epoch 134/200\n",
      "20/20 [==============================] - 0s 8ms/step - loss: 0.4685 - accuracy: 0.7785 - val_loss: 0.4624 - val_accuracy: 0.8052\n",
      "Epoch 135/200\n",
      "20/20 [==============================] - 0s 8ms/step - loss: 0.4604 - accuracy: 0.7866 - val_loss: 0.4619 - val_accuracy: 0.7922\n",
      "Epoch 136/200\n",
      "20/20 [==============================] - 0s 8ms/step - loss: 0.4640 - accuracy: 0.7736 - val_loss: 0.4652 - val_accuracy: 0.7857\n",
      "Epoch 137/200\n",
      "20/20 [==============================] - 0s 8ms/step - loss: 0.4617 - accuracy: 0.7622 - val_loss: 0.4610 - val_accuracy: 0.8182\n",
      "Epoch 138/200\n",
      "20/20 [==============================] - 0s 7ms/step - loss: 0.4595 - accuracy: 0.7769 - val_loss: 0.4634 - val_accuracy: 0.8182\n",
      "Epoch 139/200\n",
      "20/20 [==============================] - 0s 8ms/step - loss: 0.4647 - accuracy: 0.7687 - val_loss: 0.4631 - val_accuracy: 0.8052\n",
      "Epoch 140/200\n",
      "20/20 [==============================] - 0s 8ms/step - loss: 0.4656 - accuracy: 0.7704 - val_loss: 0.4642 - val_accuracy: 0.8117\n",
      "Epoch 141/200\n",
      "20/20 [==============================] - 0s 7ms/step - loss: 0.4636 - accuracy: 0.7752 - val_loss: 0.4667 - val_accuracy: 0.8052\n",
      "Epoch 142/200\n",
      "20/20 [==============================] - 0s 8ms/step - loss: 0.4720 - accuracy: 0.7785 - val_loss: 0.4650 - val_accuracy: 0.8052\n",
      "Epoch 143/200\n",
      "20/20 [==============================] - 0s 7ms/step - loss: 0.4569 - accuracy: 0.7687 - val_loss: 0.4657 - val_accuracy: 0.7987\n",
      "Epoch 144/200\n",
      "20/20 [==============================] - 0s 7ms/step - loss: 0.4779 - accuracy: 0.7638 - val_loss: 0.4659 - val_accuracy: 0.8052\n",
      "Epoch 145/200\n",
      "20/20 [==============================] - 0s 7ms/step - loss: 0.4722 - accuracy: 0.7638 - val_loss: 0.4651 - val_accuracy: 0.8052\n",
      "Epoch 146/200\n",
      "20/20 [==============================] - 0s 8ms/step - loss: 0.4681 - accuracy: 0.7671 - val_loss: 0.4612 - val_accuracy: 0.8117\n",
      "Epoch 147/200\n",
      "20/20 [==============================] - 0s 8ms/step - loss: 0.4735 - accuracy: 0.7638 - val_loss: 0.4625 - val_accuracy: 0.8117\n",
      "Epoch 148/200\n",
      "20/20 [==============================] - 0s 7ms/step - loss: 0.4592 - accuracy: 0.7704 - val_loss: 0.4641 - val_accuracy: 0.8052\n",
      "Epoch 149/200\n",
      "20/20 [==============================] - 0s 7ms/step - loss: 0.4653 - accuracy: 0.7638 - val_loss: 0.4646 - val_accuracy: 0.8052\n",
      "Epoch 150/200\n",
      "20/20 [==============================] - 0s 8ms/step - loss: 0.4461 - accuracy: 0.7948 - val_loss: 0.4624 - val_accuracy: 0.8052\n",
      "Epoch 151/200\n",
      "20/20 [==============================] - 0s 8ms/step - loss: 0.4580 - accuracy: 0.7704 - val_loss: 0.4635 - val_accuracy: 0.8117\n",
      "Epoch 152/200\n",
      "20/20 [==============================] - 0s 8ms/step - loss: 0.4638 - accuracy: 0.7590 - val_loss: 0.4661 - val_accuracy: 0.7987\n",
      "Epoch 153/200\n",
      "20/20 [==============================] - 0s 8ms/step - loss: 0.4662 - accuracy: 0.7638 - val_loss: 0.4642 - val_accuracy: 0.8052\n",
      "Epoch 154/200\n",
      "20/20 [==============================] - 0s 8ms/step - loss: 0.4700 - accuracy: 0.7785 - val_loss: 0.4624 - val_accuracy: 0.8117\n",
      "Epoch 155/200\n",
      "20/20 [==============================] - 0s 8ms/step - loss: 0.4598 - accuracy: 0.7801 - val_loss: 0.4627 - val_accuracy: 0.8052\n",
      "Epoch 156/200\n",
      "20/20 [==============================] - 0s 8ms/step - loss: 0.4619 - accuracy: 0.7818 - val_loss: 0.4651 - val_accuracy: 0.8052\n",
      "Epoch 157/200\n",
      "20/20 [==============================] - 0s 8ms/step - loss: 0.4644 - accuracy: 0.7785 - val_loss: 0.4649 - val_accuracy: 0.8117\n",
      "Epoch 158/200\n",
      "20/20 [==============================] - 0s 8ms/step - loss: 0.4588 - accuracy: 0.7801 - val_loss: 0.4652 - val_accuracy: 0.7987\n",
      "Epoch 159/200\n",
      "20/20 [==============================] - 0s 7ms/step - loss: 0.4662 - accuracy: 0.7720 - val_loss: 0.4619 - val_accuracy: 0.8117\n",
      "Epoch 160/200\n",
      "20/20 [==============================] - 0s 7ms/step - loss: 0.4785 - accuracy: 0.7590 - val_loss: 0.4632 - val_accuracy: 0.8117\n",
      "Epoch 161/200\n",
      "20/20 [==============================] - 0s 8ms/step - loss: 0.4727 - accuracy: 0.7590 - val_loss: 0.4648 - val_accuracy: 0.8117\n",
      "Epoch 162/200\n",
      "20/20 [==============================] - 0s 8ms/step - loss: 0.4628 - accuracy: 0.7818 - val_loss: 0.4659 - val_accuracy: 0.7987\n",
      "Epoch 163/200\n",
      "20/20 [==============================] - 0s 8ms/step - loss: 0.4618 - accuracy: 0.7590 - val_loss: 0.4653 - val_accuracy: 0.7987\n",
      "Epoch 164/200\n",
      "20/20 [==============================] - 0s 9ms/step - loss: 0.4612 - accuracy: 0.7899 - val_loss: 0.4627 - val_accuracy: 0.8117\n",
      "Epoch 165/200\n",
      "20/20 [==============================] - 0s 9ms/step - loss: 0.4643 - accuracy: 0.7687 - val_loss: 0.4610 - val_accuracy: 0.8052\n",
      "Epoch 166/200\n",
      "20/20 [==============================] - 0s 9ms/step - loss: 0.4647 - accuracy: 0.7850 - val_loss: 0.4618 - val_accuracy: 0.8117\n",
      "Epoch 167/200\n",
      "20/20 [==============================] - 0s 8ms/step - loss: 0.4667 - accuracy: 0.7671 - val_loss: 0.4637 - val_accuracy: 0.8052\n",
      "Epoch 168/200\n",
      "20/20 [==============================] - 0s 8ms/step - loss: 0.4553 - accuracy: 0.7785 - val_loss: 0.4626 - val_accuracy: 0.8117\n",
      "Epoch 169/200\n",
      "20/20 [==============================] - 0s 6ms/step - loss: 0.4536 - accuracy: 0.7752 - val_loss: 0.4598 - val_accuracy: 0.8117\n",
      "Epoch 170/200\n",
      "20/20 [==============================] - 0s 7ms/step - loss: 0.4566 - accuracy: 0.7883 - val_loss: 0.4592 - val_accuracy: 0.8117\n",
      "Epoch 171/200\n",
      "20/20 [==============================] - 0s 8ms/step - loss: 0.4622 - accuracy: 0.7704 - val_loss: 0.4615 - val_accuracy: 0.8117\n",
      "Epoch 172/200\n",
      "20/20 [==============================] - 0s 6ms/step - loss: 0.4629 - accuracy: 0.7704 - val_loss: 0.4640 - val_accuracy: 0.7987\n",
      "Epoch 173/200\n",
      "20/20 [==============================] - 0s 6ms/step - loss: 0.4577 - accuracy: 0.7671 - val_loss: 0.4631 - val_accuracy: 0.8117\n",
      "Epoch 174/200\n",
      "20/20 [==============================] - 0s 7ms/step - loss: 0.4496 - accuracy: 0.7850 - val_loss: 0.4612 - val_accuracy: 0.8052\n",
      "Epoch 175/200\n",
      "20/20 [==============================] - 0s 7ms/step - loss: 0.4623 - accuracy: 0.7622 - val_loss: 0.4627 - val_accuracy: 0.8117\n",
      "Epoch 176/200\n",
      "20/20 [==============================] - 0s 7ms/step - loss: 0.4531 - accuracy: 0.7752 - val_loss: 0.4623 - val_accuracy: 0.8052\n",
      "Epoch 177/200\n",
      "20/20 [==============================] - 0s 7ms/step - loss: 0.4591 - accuracy: 0.7866 - val_loss: 0.4653 - val_accuracy: 0.7987\n",
      "Epoch 178/200\n"
     ]
    },
    {
     "name": "stdout",
     "output_type": "stream",
     "text": [
      "20/20 [==============================] - 0s 8ms/step - loss: 0.4670 - accuracy: 0.7736 - val_loss: 0.4643 - val_accuracy: 0.8052\n",
      "Epoch 179/200\n",
      "20/20 [==============================] - 0s 7ms/step - loss: 0.4645 - accuracy: 0.7736 - val_loss: 0.4651 - val_accuracy: 0.7987\n",
      "Epoch 180/200\n",
      "20/20 [==============================] - 0s 8ms/step - loss: 0.4577 - accuracy: 0.7704 - val_loss: 0.4643 - val_accuracy: 0.8052\n",
      "Epoch 181/200\n",
      "20/20 [==============================] - 0s 8ms/step - loss: 0.4616 - accuracy: 0.7704 - val_loss: 0.4671 - val_accuracy: 0.7987\n",
      "Epoch 182/200\n",
      "20/20 [==============================] - 0s 7ms/step - loss: 0.4596 - accuracy: 0.7720 - val_loss: 0.4661 - val_accuracy: 0.7987\n",
      "Epoch 183/200\n",
      "20/20 [==============================] - 0s 6ms/step - loss: 0.4484 - accuracy: 0.7752 - val_loss: 0.4641 - val_accuracy: 0.7987\n",
      "Epoch 184/200\n",
      "20/20 [==============================] - 0s 8ms/step - loss: 0.4572 - accuracy: 0.7752 - val_loss: 0.4640 - val_accuracy: 0.8052\n",
      "Epoch 185/200\n",
      "20/20 [==============================] - 0s 8ms/step - loss: 0.4532 - accuracy: 0.7834 - val_loss: 0.4660 - val_accuracy: 0.7987\n",
      "Epoch 186/200\n",
      "20/20 [==============================] - 0s 8ms/step - loss: 0.4473 - accuracy: 0.7850 - val_loss: 0.4629 - val_accuracy: 0.7987\n",
      "Epoch 187/200\n",
      "20/20 [==============================] - 0s 7ms/step - loss: 0.4616 - accuracy: 0.7834 - val_loss: 0.4664 - val_accuracy: 0.8117\n",
      "Epoch 188/200\n",
      "20/20 [==============================] - 0s 8ms/step - loss: 0.4645 - accuracy: 0.7655 - val_loss: 0.4640 - val_accuracy: 0.8052\n",
      "Epoch 189/200\n",
      "20/20 [==============================] - 0s 8ms/step - loss: 0.4560 - accuracy: 0.7655 - val_loss: 0.4650 - val_accuracy: 0.8117\n",
      "Epoch 190/200\n",
      "20/20 [==============================] - 0s 8ms/step - loss: 0.4713 - accuracy: 0.7655 - val_loss: 0.4629 - val_accuracy: 0.8052\n",
      "Epoch 191/200\n",
      "20/20 [==============================] - 0s 8ms/step - loss: 0.4511 - accuracy: 0.7720 - val_loss: 0.4632 - val_accuracy: 0.8052\n",
      "Epoch 192/200\n",
      "20/20 [==============================] - 0s 8ms/step - loss: 0.4475 - accuracy: 0.7638 - val_loss: 0.4673 - val_accuracy: 0.7987\n",
      "Epoch 193/200\n",
      "20/20 [==============================] - 0s 7ms/step - loss: 0.4480 - accuracy: 0.7834 - val_loss: 0.4640 - val_accuracy: 0.8052\n",
      "Epoch 194/200\n",
      "20/20 [==============================] - 0s 7ms/step - loss: 0.4467 - accuracy: 0.7752 - val_loss: 0.4657 - val_accuracy: 0.7987\n",
      "Epoch 195/200\n",
      "20/20 [==============================] - 0s 8ms/step - loss: 0.4578 - accuracy: 0.7834 - val_loss: 0.4656 - val_accuracy: 0.7987\n",
      "Epoch 196/200\n",
      "20/20 [==============================] - 0s 9ms/step - loss: 0.4544 - accuracy: 0.7785 - val_loss: 0.4660 - val_accuracy: 0.8182\n",
      "Epoch 197/200\n",
      "20/20 [==============================] - 0s 8ms/step - loss: 0.4598 - accuracy: 0.7736 - val_loss: 0.4673 - val_accuracy: 0.8117\n",
      "Epoch 198/200\n",
      "20/20 [==============================] - 0s 8ms/step - loss: 0.4511 - accuracy: 0.7818 - val_loss: 0.4655 - val_accuracy: 0.7987\n",
      "Epoch 199/200\n",
      "20/20 [==============================] - 0s 8ms/step - loss: 0.4649 - accuracy: 0.7671 - val_loss: 0.4655 - val_accuracy: 0.8052\n",
      "Epoch 200/200\n",
      "20/20 [==============================] - 0s 8ms/step - loss: 0.4517 - accuracy: 0.7818 - val_loss: 0.4627 - val_accuracy: 0.7987\n"
     ]
    },
    {
     "data": {
      "text/plain": [
       "<keras.src.callbacks.History at 0x25536746910>"
      ]
     },
     "execution_count": 35,
     "metadata": {},
     "output_type": "execute_result"
    }
   ],
   "source": [
    "model.fit(X_train,y_train,batch_size=32,epochs=200,initial_epoch=5,validation_data=(X_test,y_test))"
   ]
  },
  {
   "cell_type": "code",
   "execution_count": null,
   "id": "3ff08c4f",
   "metadata": {},
   "outputs": [],
   "source": []
  }
 ],
 "metadata": {
  "kernelspec": {
   "display_name": "Python 3 (ipykernel)",
   "language": "python",
   "name": "python3"
  },
  "language_info": {
   "codemirror_mode": {
    "name": "ipython",
    "version": 3
   },
   "file_extension": ".py",
   "mimetype": "text/x-python",
   "name": "python",
   "nbconvert_exporter": "python",
   "pygments_lexer": "ipython3",
   "version": "3.11.3"
  }
 },
 "nbformat": 4,
 "nbformat_minor": 5
}
