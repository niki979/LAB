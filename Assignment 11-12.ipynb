{
 "cells": [
  {
   "cell_type": "markdown",
   "id": "ab6cae71",
   "metadata": {},
   "source": [
    "# Assignment 11-12\n"
   ]
  },
  {
   "cell_type": "code",
   "execution_count": 9,
   "id": "1bf1f36d",
   "metadata": {},
   "outputs": [],
   "source": [
    "# Importing the libraries\n",
    "\n",
    "import torch\n",
    "import numpy as np"
   ]
  },
  {
   "cell_type": "code",
   "execution_count": 2,
   "id": "de001ff8",
   "metadata": {},
   "outputs": [
    {
     "name": "stdout",
     "output_type": "stream",
     "text": [
      "tensor([[10, 20],\n",
      "        [30, 40]])\n",
      "tensor([[10, 20],\n",
      "        [30, 40]], dtype=torch.int32)\n"
     ]
    }
   ],
   "source": [
    "# Tensor initialization\n",
    "\n",
    "# 1. Directly from data\n",
    "data=[[10,20],[30,40]]\n",
    "tensor_data=torch.tensor(data)\n",
    "print(tensor_data)\n",
    "\n",
    "# 2. From a NumPy array\n",
    "numpy_array=np.array(data)\n",
    "result=torch.from_numpy(numpy_array)\n",
    "print(result)"
   ]
  },
  {
   "cell_type": "code",
   "execution_count": 3,
   "id": "9f118728",
   "metadata": {},
   "outputs": [
    {
     "name": "stdout",
     "output_type": "stream",
     "text": [
      "Random Tensor: \n",
      " tensor([[0.1051, 0.2862],\n",
      "        [0.2863, 0.5422]]) \n",
      "\n"
     ]
    }
   ],
   "source": [
    "# Generating the random tensor\n",
    "random_tensor=torch.rand_like(tensor_data, dtype=torch.float) # overrides the datatype of data\n",
    "print(f\"Random Tensor: \\n {random_tensor} \\n\")"
   ]
  },
  {
   "cell_type": "code",
   "execution_count": 4,
   "id": "011c7434",
   "metadata": {},
   "outputs": [
    {
     "name": "stdout",
     "output_type": "stream",
     "text": [
      "tensor([[0.7645, 0.7767, 0.8367],\n",
      "        [0.5751, 0.4302, 0.7203]])\n",
      "tensor([[1., 1., 1.],\n",
      "        [1., 1., 1.]])\n",
      "tensor([[0., 0., 0.],\n",
      "        [0., 0., 0.]])\n"
     ]
    }
   ],
   "source": [
    "# Shape tuple of tensor.\n",
    "shape = (2, 3,)\n",
    "rand_tensor = torch.rand(shape)\n",
    "ones_tensor = torch.ones(shape)\n",
    "zeros_tensor = torch.zeros(shape)\n",
    "\n",
    "print(rand_tensor)\n",
    "print(ones_tensor)\n",
    "print(zeros_tensor)"
   ]
  },
  {
   "cell_type": "code",
   "execution_count": 5,
   "id": "8c8a8964",
   "metadata": {},
   "outputs": [
    {
     "name": "stdout",
     "output_type": "stream",
     "text": [
      "cpu\n"
     ]
    }
   ],
   "source": [
    "# CUDA is a programming model and computing toolkit developed by NVIDIA.\n",
    "# It enables you to perform compute-intensive operations faster by parallelizing tasks across GPUs.\n",
    "# CUDA is the dominant API used for deep learning\n",
    "# if torch.cuda.is_available():\n",
    "#   tensor = tensor.to('cuda')\n",
    "#   print(f\"Device tensor is stored on: {tensor.device}\")\n",
    "\n",
    "DEVICE = torch.device(\"cuda:0\" if torch.cuda.is_available() else \"cpu\")\n",
    "print(DEVICE)"
   ]
  },
  {
   "cell_type": "code",
   "execution_count": 6,
   "id": "f8c94b5d",
   "metadata": {},
   "outputs": [
    {
     "name": "stdout",
     "output_type": "stream",
     "text": [
      "tensor([[1., 1., 0., 1., 1.],\n",
      "        [1., 1., 0., 1., 1.],\n",
      "        [1., 1., 0., 1., 1.],\n",
      "        [1., 1., 0., 1., 1.],\n",
      "        [1., 1., 0., 1., 1.]])\n"
     ]
    }
   ],
   "source": [
    "# Indexing and slicing.\n",
    "tensor = torch.ones(5, 5)\n",
    "tensor[:,2] = 0\n",
    "print(tensor)"
   ]
  },
  {
   "cell_type": "code",
   "execution_count": 7,
   "id": "9df9c1c2",
   "metadata": {},
   "outputs": [
    {
     "name": "stdout",
     "output_type": "stream",
     "text": [
      "tensor([[1., 1., 0., 1., 1., 1., 1., 0., 1., 1., 1., 1., 0., 1., 1.],\n",
      "        [1., 1., 0., 1., 1., 1., 1., 0., 1., 1., 1., 1., 0., 1., 1.],\n",
      "        [1., 1., 0., 1., 1., 1., 1., 0., 1., 1., 1., 1., 0., 1., 1.],\n",
      "        [1., 1., 0., 1., 1., 1., 1., 0., 1., 1., 1., 1., 0., 1., 1.],\n",
      "        [1., 1., 0., 1., 1., 1., 1., 0., 1., 1., 1., 1., 0., 1., 1.]])\n"
     ]
    }
   ],
   "source": [
    "# Joining the tensors\n",
    "new_tensor=torch.cat([tensor, tensor, tensor], dim=1)\n",
    "print(new_tensor)"
   ]
  },
  {
   "cell_type": "code",
   "execution_count": 8,
   "id": "5877145b",
   "metadata": {},
   "outputs": [
    {
     "name": "stdout",
     "output_type": "stream",
     "text": [
      "tensor.mul(tensor) \n",
      " tensor([[1., 1., 0., 1., 1.],\n",
      "        [1., 1., 0., 1., 1.],\n",
      "        [1., 1., 0., 1., 1.],\n",
      "        [1., 1., 0., 1., 1.],\n",
      "        [1., 1., 0., 1., 1.]]) \n",
      "\n",
      "tensor * tensor \n",
      " tensor([[1., 1., 0., 1., 1.],\n",
      "        [1., 1., 0., 1., 1.],\n",
      "        [1., 1., 0., 1., 1.],\n",
      "        [1., 1., 0., 1., 1.],\n",
      "        [1., 1., 0., 1., 1.]])\n"
     ]
    }
   ],
   "source": [
    "# Multiplying the tensors\n",
    "\n",
    "# This computes the element-wise product\n",
    "print(f\"tensor.mul(tensor) \\n {tensor.mul(tensor)} \\n\")\n",
    "# Alternative syntax:\n",
    "print(f\"tensor * tensor \\n {tensor * tensor}\")"
   ]
  },
  {
   "cell_type": "code",
   "execution_count": null,
   "id": "ec3b4b7d",
   "metadata": {},
   "outputs": [],
   "source": []
  }
 ],
 "metadata": {
  "kernelspec": {
   "display_name": "Python 3 (ipykernel)",
   "language": "python",
   "name": "python3"
  },
  "language_info": {
   "codemirror_mode": {
    "name": "ipython",
    "version": 3
   },
   "file_extension": ".py",
   "mimetype": "text/x-python",
   "name": "python",
   "nbconvert_exporter": "python",
   "pygments_lexer": "ipython3",
   "version": "3.11.3"
  }
 },
 "nbformat": 4,
 "nbformat_minor": 5
}
