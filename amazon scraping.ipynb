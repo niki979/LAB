{
 "cells": [
  {
   "cell_type": "code",
   "execution_count": 1,
   "id": "05aa0116",
   "metadata": {},
   "outputs": [],
   "source": [
    "import requests \n",
    "from bs4 import BeautifulSoup \n",
    "import pandas as pd\n",
    "\n"
   ]
  },
  {
   "cell_type": "code",
   "execution_count": 2,
   "id": "85c646c7",
   "metadata": {},
   "outputs": [],
   "source": [
    "URL = \"https://www.amazon.in/s?rh=n%3A6612025031&fs=true&ref=lp_6612025031_sar\"\n"
   ]
  },
  {
   "cell_type": "code",
   "execution_count": 3,
   "id": "66691b22",
   "metadata": {},
   "outputs": [],
   "source": [
    "head=({'User-Agent':'Mozilla/5.0 (Windows NT 10.0; Win64; x64) AppleWebKit/537.36 (KHTML, like Gecko) Chrome/120.0.0.0 Safari/537.36'})"
   ]
  },
  {
   "cell_type": "code",
   "execution_count": 4,
   "id": "7e4d1883",
   "metadata": {},
   "outputs": [
    {
     "data": {
      "text/plain": [
       "<Response [503]>"
      ]
     },
     "execution_count": 4,
     "metadata": {},
     "output_type": "execute_result"
    }
   ],
   "source": [
    "r = requests.get(URL,headers=head) \n",
    "r"
   ]
  },
  {
   "cell_type": "code",
   "execution_count": 5,
   "id": "d7c05bdb",
   "metadata": {},
   "outputs": [
    {
     "name": "stdout",
     "output_type": "stream",
     "text": [
      "<html>\n",
      " <head>\n",
      "  <title>\n",
      "   503 - Service Unavailable Error\n",
      "  </title>\n",
      " </head>\n",
      " <body bgcolor=\"#FFFFFF\" text=\"#000000\">\n",
      "  <!--\n",
      "        To discuss automated access to Amazon data please contact api-services-support@amazon.com.\n",
      "        For information about migrating to our APIs refer to our Marketplace APIs at https://developer.amazonservices.in/ref=rm_5_sv, or our Product Advertising API at https://affiliate-program.amazon.in/gp/advertising/api/detail/main.html/ref=rm_5_ac for advertising use cases.\n",
      "-->\n",
      "  <center>\n",
      "   <a href=\"https://www.amazon.in/ref=cs_503_logo/\">\n",
      "    <img alt=\"Amazon.in\" border=\"0\" height=\"45\" src=\"https://images-eu.ssl-images-amazon.com/images/G/31/x-locale/communities/people/logo.gif\" width=\"200\"/>\n",
      "   </a>\n",
      "   <p align=\"center\">\n",
      "    <font face=\"Verdana,Arial,Helvetica\">\n",
      "     <font color=\"#CC6600\" size=\"+2\">\n",
      "      <b>\n",
      "       Oops!\n",
      "      </b>\n",
      "     </font>\n",
      "     <br/>\n",
      "     <b>\n",
      "      It's rush hour and traffic is piling up on that page. Please try again in a short while.\n",
      "      <br/>\n",
      "      If you were trying to place an order, it will not have been processed at this time.\n",
      "     </b>\n",
      "     <p>\n",
      "      <img alt=\"*\" border=\"0\" height=\"9\" src=\"https://images-eu.ssl-images-amazon.com/images/G/02/x-locale/common/orange-arrow.gif\" width=\"10\"/>\n",
      "      <b>\n",
      "       <a href=\"https://www.amazon.in/ref=cs_503_link/\">\n",
      "        Go to the Amazon.in home page to continue shopping\n",
      "       </a>\n",
      "      </b>\n",
      "     </p>\n",
      "    </font>\n",
      "   </p>\n",
      "  </center>\n",
      " </body>\n",
      "</html>\n",
      "\n"
     ]
    }
   ],
   "source": [
    "soup = BeautifulSoup(r.content, 'html.parser')  \n",
    "print(soup.prettify()) \n"
   ]
  },
  {
   "cell_type": "code",
   "execution_count": 6,
   "id": "0593d528",
   "metadata": {},
   "outputs": [],
   "source": [
    "powerbanks= soup.find_all('div',class_=\"a-section a-spacing-small puis-padding-left-small puis-padding-right-small\")"
   ]
  },
  {
   "cell_type": "code",
   "execution_count": 7,
   "id": "992224c5",
   "metadata": {},
   "outputs": [],
   "source": [
    "names=[]\n",
    "prices=[]\n",
    "ratings=[]\n",
    "sellers=[]"
   ]
  },
  {
   "cell_type": "code",
   "execution_count": 8,
   "id": "27be7a99",
   "metadata": {},
   "outputs": [],
   "source": [
    "for i in powerbanks:\n",
    "    names.append(i.find('span',class_='a-size-base-plus a-color-base a-text-normal').text)\n",
    "    prices.append(i.find('span',class_='a-price-whole').text)\n",
    "    ratings.append(i.find('span',class_=\"a-icon-alt\").text[:3])\n",
    "    sellers.append('amazon')\n",
    "    "
   ]
  },
  {
   "cell_type": "code",
   "execution_count": 9,
   "id": "8aa51d72",
   "metadata": {},
   "outputs": [],
   "source": [
    "# Calling DataFrame constructor after zipping\n",
    "# both lists, with columns specified\n",
    "df = pd.DataFrame(list(zip(names, prices,ratings,sellers)),\n",
    "               columns =['Product Name', 'Price','Rating','Seller'])\n"
   ]
  },
  {
   "cell_type": "code",
   "execution_count": 10,
   "id": "3170ab2a",
   "metadata": {},
   "outputs": [
    {
     "data": {
      "text/html": [
       "<div>\n",
       "<style scoped>\n",
       "    .dataframe tbody tr th:only-of-type {\n",
       "        vertical-align: middle;\n",
       "    }\n",
       "\n",
       "    .dataframe tbody tr th {\n",
       "        vertical-align: top;\n",
       "    }\n",
       "\n",
       "    .dataframe thead th {\n",
       "        text-align: right;\n",
       "    }\n",
       "</style>\n",
       "<table border=\"1\" class=\"dataframe\">\n",
       "  <thead>\n",
       "    <tr style=\"text-align: right;\">\n",
       "      <th></th>\n",
       "      <th>Product Name</th>\n",
       "      <th>Price</th>\n",
       "      <th>Rating</th>\n",
       "      <th>Seller</th>\n",
       "    </tr>\n",
       "  </thead>\n",
       "  <tbody>\n",
       "  </tbody>\n",
       "</table>\n",
       "</div>"
      ],
      "text/plain": [
       "Empty DataFrame\n",
       "Columns: [Product Name, Price, Rating, Seller]\n",
       "Index: []"
      ]
     },
     "execution_count": 10,
     "metadata": {},
     "output_type": "execute_result"
    }
   ],
   "source": [
    "df.head()"
   ]
  },
  {
   "cell_type": "code",
   "execution_count": 11,
   "id": "0656b924",
   "metadata": {},
   "outputs": [],
   "source": [
    "df.to_csv('amazon_powerbanks.csv')"
   ]
  },
  {
   "cell_type": "code",
   "execution_count": null,
   "id": "d49109a7",
   "metadata": {},
   "outputs": [],
   "source": []
  },
  {
   "cell_type": "code",
   "execution_count": null,
   "id": "cb9024d7",
   "metadata": {},
   "outputs": [],
   "source": []
  },
  {
   "cell_type": "code",
   "execution_count": null,
   "id": "17e9950d",
   "metadata": {},
   "outputs": [],
   "source": []
  }
 ],
 "metadata": {
  "kernelspec": {
   "display_name": "Python 3 (ipykernel)",
   "language": "python",
   "name": "python3"
  },
  "language_info": {
   "codemirror_mode": {
    "name": "ipython",
    "version": 3
   },
   "file_extension": ".py",
   "mimetype": "text/x-python",
   "name": "python",
   "nbconvert_exporter": "python",
   "pygments_lexer": "ipython3",
   "version": "3.11.3"
  }
 },
 "nbformat": 4,
 "nbformat_minor": 5
}
